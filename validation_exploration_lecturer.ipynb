{
  "nbformat": 4,
  "nbformat_minor": 0,
  "metadata": {
    "colab": {
      "name": "validation_exploration_lecturer.ipynb",
      "provenance": [],
      "include_colab_link": true
    },
    "kernelspec": {
      "name": "python3",
      "display_name": "Python 3"
    },
    "language_info": {
      "name": "python"
    }
  },
  "cells": [
    {
      "cell_type": "markdown",
      "metadata": {
        "id": "view-in-github",
        "colab_type": "text"
      },
      "source": [
        "<a href=\"https://colab.research.google.com/github/steve-keys/Assignment---1--Intro-to-Programming/blob/main/validation_exploration_lecturer.ipynb\" target=\"_parent\"><img src=\"https://colab.research.google.com/assets/colab-badge.svg\" alt=\"Open In Colab\"/></a>"
      ]
    },
    {
      "cell_type": "code",
      "metadata": {
        "id": "I7dNilR1KYE5"
      },
      "source": [
        "num1 = 12\n",
        "num2 = 122"
      ],
      "execution_count": null,
      "outputs": []
    },
    {
      "cell_type": "code",
      "metadata": {
        "colab": {
          "base_uri": "https://localhost:8080/"
        },
        "id": "2J5SEw19OFvW",
        "outputId": "9a35292e-6b2c-4d43-9d45-a82f643e9dd4"
      },
      "source": [
        "if num1 == num2:\n",
        "  print(\"Same\")\n",
        "else:\n",
        "  print(\"Different\")"
      ],
      "execution_count": null,
      "outputs": [
        {
          "output_type": "stream",
          "name": "stdout",
          "text": [
            "Different\n"
          ]
        }
      ]
    },
    {
      "cell_type": "code",
      "metadata": {
        "id": "WD8dAu5cOMrA"
      },
      "source": [
        "ticker = \"NAB.AX\"\n",
        "ext = \"NAB.AX\""
      ],
      "execution_count": null,
      "outputs": []
    },
    {
      "cell_type": "code",
      "metadata": {
        "colab": {
          "base_uri": "https://localhost:8080/"
        },
        "id": "V4IhWjWoOUS-",
        "outputId": "6e072318-e441-4196-9be3-0356f32c01f7"
      },
      "source": [
        "if ticker == ext:\n",
        "  print(\"Same\")\n",
        "else:\n",
        "  print(\"Different\")"
      ],
      "execution_count": null,
      "outputs": [
        {
          "output_type": "stream",
          "name": "stdout",
          "text": [
            "Same\n"
          ]
        }
      ]
    },
    {
      "cell_type": "code",
      "metadata": {
        "colab": {
          "base_uri": "https://localhost:8080/",
          "height": 35
        },
        "id": "N1dDn6yAOeJV",
        "outputId": "048e9127-ebaf-4fe9-ef1c-76456ae7da0b"
      },
      "source": [
        "ticker"
      ],
      "execution_count": null,
      "outputs": [
        {
          "output_type": "execute_result",
          "data": {
            "application/vnd.google.colaboratory.intrinsic+json": {
              "type": "string"
            },
            "text/plain": [
              "'NAB.AX'"
            ]
          },
          "metadata": {},
          "execution_count": 64
        }
      ]
    },
    {
      "cell_type": "code",
      "metadata": {
        "id": "dJMGol7zOtCc"
      },
      "source": [
        "get_last_3_chars = ticker[-3:]"
      ],
      "execution_count": null,
      "outputs": []
    },
    {
      "cell_type": "code",
      "metadata": {
        "id": "syM98Pl9O1uS"
      },
      "source": [
        "ext_want = '.AX'"
      ],
      "execution_count": null,
      "outputs": []
    },
    {
      "cell_type": "code",
      "metadata": {
        "id": "fHFkJU0jPqNr"
      },
      "source": [
        "def get_ticker():\n",
        "  while True: \n",
        "    ticker = input(\"Please input a ticker \")\n",
        "    last_3_chars = ticker[-3:]\n",
        "    if last_3_chars == '.AX':\n",
        "      break\n",
        "    else:\n",
        "      print(\"Please make sure the ticker ends in '.AX' \")\n",
        "  return ticker"
      ],
      "execution_count": null,
      "outputs": []
    },
    {
      "cell_type": "code",
      "metadata": {
        "colab": {
          "base_uri": "https://localhost:8080/"
        },
        "id": "MHASsrPJP1fI",
        "outputId": "84b5ff65-3faf-4a5a-ec3b-66edeb135ac7"
      },
      "source": [
        "ticker_input = get_ticker()\n",
        "print(\"You input the ticker symbol \" + ticker_input)"
      ],
      "execution_count": null,
      "outputs": [
        {
          "output_type": "stream",
          "name": "stdout",
          "text": [
            "Pleasw input a ticker NAB\n",
            "Please make sure the ticker ends in '.AX' \n",
            "Pleasw input a ticker NAB.AX\n",
            "You input the ticker symbol NAB.AX\n"
          ]
        }
      ]
    },
    {
      "cell_type": "code",
      "metadata": {
        "id": "cDINgv5kTztU"
      },
      "source": [
        "# This is what I want to do, \n",
        "# but don't know how to do in Python!\n",
        "\n",
        "# while user hasn't input a Aussie comany\n",
        "#   prompt the user for the ticker\n",
        "#   check if Aussie comany\n",
        "#   if not Aussie Comany\n",
        "#      print message to user explaing problem\n",
        "#   otherwise done!\n",
        "\n",
        "# Need a funciton to check if Aussie Company\n",
        "# Note:  If the last 3 characters of a ticker\n",
        "#        symbol is '.AX' this means it is an Aussie company\n",
        "\n"
      ],
      "execution_count": null,
      "outputs": []
    },
    {
      "cell_type": "code",
      "metadata": {
        "id": "4i50uf3LRB-D"
      },
      "source": [
        "def is_aussie(ticker):\n",
        "  if ticker[-3:] == '.AX':\n",
        "    return True\n",
        "  else:\n",
        "    return False\n",
        "\n",
        "def is_aussie2(ticker):\n",
        "  return ticker[-3:] == '.AX'"
      ],
      "execution_count": null,
      "outputs": []
    },
    {
      "cell_type": "code",
      "metadata": {
        "id": "4aJAwMkxV-BR"
      },
      "source": [
        "def get_ticker():\n",
        "  ticker = input(\"Please input a ticker \")\n",
        "  while True:\n",
        "    if is_aussie2(ticker):\n",
        "      break\n",
        "    else:\n",
        "      ticker = input(\"Opps, not a Aussie company, try again \")\n",
        "  return ticker"
      ],
      "execution_count": null,
      "outputs": []
    },
    {
      "cell_type": "code",
      "metadata": {
        "colab": {
          "base_uri": "https://localhost:8080/",
          "height": 70
        },
        "id": "u6EBcI-jWVfA",
        "outputId": "9a2ff4b3-b62a-4e5f-de04-f3ccedf52ccd"
      },
      "source": [
        "get_ticker()"
      ],
      "execution_count": null,
      "outputs": [
        {
          "name": "stdout",
          "output_type": "stream",
          "text": [
            "Please input a ticker NAB\n",
            "Opps, not a Aussie company, try again NAB.AX\n"
          ]
        },
        {
          "output_type": "execute_result",
          "data": {
            "application/vnd.google.colaboratory.intrinsic+json": {
              "type": "string"
            },
            "text/plain": [
              "'NAB.AX'"
            ]
          },
          "metadata": {},
          "execution_count": 77
        }
      ]
    },
    {
      "cell_type": "code",
      "metadata": {
        "id": "tsaF19loWeeh"
      },
      "source": [
        ""
      ],
      "execution_count": null,
      "outputs": []
    }
  ]
}