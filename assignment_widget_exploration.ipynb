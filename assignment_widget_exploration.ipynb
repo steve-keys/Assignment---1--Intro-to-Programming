{
  "nbformat": 4,
  "nbformat_minor": 0,
  "metadata": {
    "colab": {
      "name": "assignment_widget_exploration.ipynb",
      "provenance": [],
      "authorship_tag": "ABX9TyNAg0NAYrePXPvUnxKbikQD",
      "include_colab_link": true
    },
    "kernelspec": {
      "name": "python3",
      "display_name": "Python 3"
    },
    "language_info": {
      "name": "python"
    }
  },
  "cells": [
    {
      "cell_type": "markdown",
      "metadata": {
        "id": "view-in-github",
        "colab_type": "text"
      },
      "source": [
        "<a href=\"https://colab.research.google.com/github/steve-keys/Assignment---1--Intro-to-Programming/blob/main/assignment_widget_exploration.ipynb\" target=\"_parent\"><img src=\"https://colab.research.google.com/assets/colab-badge.svg\" alt=\"Open In Colab\"/></a>"
      ]
    },
    {
      "cell_type": "markdown",
      "metadata": {
        "id": "bfYHCuL0NUPW"
      },
      "source": [
        "I want add some GUI buttons to he assignment that allows the user to decide if the wish to save the Executives' names, title, pay and tax data as:\n",
        "* a CSV file\n",
        "* save to a SQL data base\n",
        "* or both\n"
      ]
    },
    {
      "cell_type": "code",
      "metadata": {
        "id": "dpHUgypsNKXk"
      },
      "source": [
        ""
      ],
      "execution_count": null,
      "outputs": []
    }
  ]
}