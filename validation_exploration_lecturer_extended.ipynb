{
  "nbformat": 4,
  "nbformat_minor": 0,
  "metadata": {
    "colab": {
      "name": "validation_exploration_lecturer_extended.ipynb",
      "provenance": [],
      "include_colab_link": true
    },
    "kernelspec": {
      "name": "python3",
      "display_name": "Python 3"
    },
    "language_info": {
      "name": "python"
    }
  },
  "cells": [
    {
      "cell_type": "markdown",
      "metadata": {
        "id": "view-in-github",
        "colab_type": "text"
      },
      "source": [
        "<a href=\"https://colab.research.google.com/github/steve-keys/Assignment---1--Intro-to-Programming/blob/main/validation_exploration_lecturer_extended.ipynb\" target=\"_parent\"><img src=\"https://colab.research.google.com/assets/colab-badge.svg\" alt=\"Open In Colab\"/></a>"
      ]
    },
    {
      "cell_type": "code",
      "metadata": {
        "id": "I4NV3cWxC7Kn"
      },
      "source": [
        "# I need to find a method that will validate the input such that, only australian company stock market ticker symbols are accepted.\n",
        "# Australian tickers always end in .AX\n",
        "# Therefore, I want the input to have a \".AX\" extension\n",
        "# If the input has this extension I want to accept the ticker and run the program\n",
        "# If the ticker does not have this extension, I want to display a message to the user that this is not an Aussie company ticker symbol\n"
      ],
      "execution_count": null,
      "outputs": []
    },
    {
      "cell_type": "code",
      "metadata": {
        "colab": {
          "base_uri": "https://localhost:8080/"
        },
        "id": "04bNARERvKHS",
        "outputId": "7ad0f1e0-ca89-42a1-ae50-057ae4c45c33"
      },
      "source": [
        "company_ticker = input(\"What is your Company's Stock Market Ticker Symbol? \")\n",
        "print(company_ticker)"
      ],
      "execution_count": null,
      "outputs": [
        {
          "output_type": "stream",
          "name": "stdout",
          "text": [
            "What is your Company's Stock Market Ticker Symbol? nac\n",
            "nac\n"
          ]
        }
      ]
    },
    {
      "cell_type": "code",
      "metadata": {
        "colab": {
          "base_uri": "https://localhost:8080/"
        },
        "id": "26FAAYIe1EyV",
        "outputId": "0e4d769e-c2b2-4edc-f8be-e7fc2342b21f"
      },
      "source": [
        "company_ticker = input(\"What is your Company's Stock Market Ticker Symbol? \")\n",
        "url = \"https://au.finance.yahoo.com/quote/{}/profile?p={}\".format(company_ticker,company_ticker)\n",
        "print(url)"
      ],
      "execution_count": null,
      "outputs": [
        {
          "output_type": "stream",
          "name": "stdout",
          "text": [
            "What is your Company's Stock Market Ticker Symbol? nab.ax\n",
            "https://au.finance.yahoo.com/quote/nab.ax/profile?p=nab.ax\n"
          ]
        }
      ]
    },
    {
      "cell_type": "code",
      "metadata": {
        "id": "dJMGol7zOtCc"
      },
      "source": [
        "get_last_3_chars = company_ticker[-3:]"
      ],
      "execution_count": null,
      "outputs": []
    },
    {
      "cell_type": "code",
      "metadata": {
        "id": "syM98Pl9O1uS"
      },
      "source": [
        "ext_want = '.AX'"
      ],
      "execution_count": null,
      "outputs": []
    },
    {
      "cell_type": "code",
      "metadata": {
        "id": "fHFkJU0jPqNr"
      },
      "source": [
        "def get_ticker():\n",
        "  while True: \n",
        "    company_ticker = input(\"What is your Company's Stock Market Ticker Symbol? \")\n",
        "    last_3_chars = company_ticker[-3:]\n",
        "    if last_3_chars == '.AX':\n",
        "      break\n",
        "    else:\n",
        "      print(\"Please make sure the ticker is an Aussie company ending in '.AX' \")\n",
        "  return company_ticker"
      ],
      "execution_count": 1,
      "outputs": []
    },
    {
      "cell_type": "code",
      "metadata": {
        "id": "MHASsrPJP1fI",
        "colab": {
          "base_uri": "https://localhost:8080/"
        },
        "outputId": "67a1ed0b-00bb-4f6d-f224-23e034b431a1"
      },
      "source": [
        "ticker_input = get_ticker()\n",
        "print(\"Thank you for entering the Aussie ticker symbol \" + ticker_input)"
      ],
      "execution_count": 4,
      "outputs": [
        {
          "output_type": "stream",
          "name": "stdout",
          "text": [
            "What is your Company's Stock Market Ticker Symbol? nab.ax\n",
            "Please make sure the ticker is an Aussie company ending in '.AX' \n",
            "What is your Company's Stock Market Ticker Symbol? CBA.AX\n",
            "Thank you for entering the Aussie ticker symbol CBA.AX\n"
          ]
        }
      ]
    },
    {
      "cell_type": "code",
      "metadata": {
        "id": "OnrIhb3PRsdO",
        "colab": {
          "base_uri": "https://localhost:8080/"
        },
        "outputId": "471313a2-841c-4592-d2b4-b5added1974c"
      },
      "source": [
        "url = \"https://au.finance.yahoo.com/quote/{}/profile?p={}\".format(ticker_input,ticker_input)\n",
        "print(url)"
      ],
      "execution_count": 5,
      "outputs": [
        {
          "output_type": "stream",
          "name": "stdout",
          "text": [
            "https://au.finance.yahoo.com/quote/CBA.AX/profile?p=CBA.AX\n"
          ]
        }
      ]
    },
    {
      "cell_type": "code",
      "metadata": {
        "id": "a4y7pmj6KPBL"
      },
      "source": [
        "url = \"https://au.finance.yahoo.com/quote/{}/profile?p={}\".format(company_ticker,company_ticker)\n",
        "print(url)"
      ],
      "execution_count": null,
      "outputs": []
    },
    {
      "cell_type": "code",
      "metadata": {
        "id": "cDINgv5kTztU"
      },
      "source": [
        "\n",
        "AXax# This is what I want to do, \n",
        "# but don't know how to do in Python!\n",
        "\n",
        "# while user hasn't input a Aussie comany\n",
        "#   prompt the user for the ticker\n",
        "#   check if Aussie comany\n",
        "#   if not Aussie Comany\n",
        "#      print message to user explaing problem\n",
        "#   otherwise done!\n",
        "\n",
        "# Need a funciton to check if Aussie Company\n",
        "# Note:  If the last 3 characters of a ticker\n",
        "#        symbol is '.AX' this means it is an Aussie company\n",
        "\n"
      ],
      "execution_count": null,
      "outputs": []
    },
    {
      "cell_type": "code",
      "metadata": {
        "id": "4i50uf3LRB-D"
      },
      "source": [
        "def is_aussie(ticker):\n",
        "  if ticker[-3:] == '.AX':\n",
        "    return True\n",
        "  else:\n",
        "    return False\n",
        "\n",
        "def is_aussie2(ticker):\n",
        "  return ticker[-3:] == '.AX'"
      ],
      "execution_count": null,
      "outputs": []
    },
    {
      "cell_type": "code",
      "metadata": {
        "id": "4aJAwMkxV-BR"
      },
      "source": [
        "def get_ticker():\n",
        "  ticker = input(\"Please input a ticker \")\n",
        "  while True:\n",
        "    if is_aussie2(ticker):\n",
        "      break\n",
        "    else:\n",
        "      ticker = input(\"Opps, not a Aussie company, try again \")\n",
        "  return ticker"
      ],
      "execution_count": null,
      "outputs": []
    },
    {
      "cell_type": "code",
      "metadata": {
        "colab": {
          "base_uri": "https://localhost:8080/",
          "height": 70
        },
        "id": "u6EBcI-jWVfA",
        "outputId": "9a2ff4b3-b62a-4e5f-de04-f3ccedf52ccd"
      },
      "source": [
        "get_ticker()"
      ],
      "execution_count": null,
      "outputs": [
        {
          "name": "stdout",
          "output_type": "stream",
          "text": [
            "Please input a ticker NAB\n",
            "Opps, not a Aussie company, try again NAB.AX\n"
          ]
        },
        {
          "output_type": "execute_result",
          "data": {
            "application/vnd.google.colaboratory.intrinsic+json": {
              "type": "string"
            },
            "text/plain": [
              "'NAB.AX'"
            ]
          },
          "metadata": {},
          "execution_count": 77
        }
      ]
    },
    {
      "cell_type": "code",
      "metadata": {
        "id": "I7dNilR1KYE5"
      },
      "source": [
        "num1 = 12\n",
        "num2 = 122"
      ],
      "execution_count": null,
      "outputs": []
    },
    {
      "cell_type": "code",
      "metadata": {
        "colab": {
          "base_uri": "https://localhost:8080/"
        },
        "id": "2J5SEw19OFvW",
        "outputId": "6c823432-fb27-4160-a5e1-54a6ebc02353"
      },
      "source": [
        "if num1 == num2:\n",
        "  print(\"Same\")\n",
        "else:\n",
        "  print(\"Different\")"
      ],
      "execution_count": null,
      "outputs": [
        {
          "output_type": "stream",
          "name": "stdout",
          "text": [
            "Different\n"
          ]
        }
      ]
    },
    {
      "cell_type": "code",
      "metadata": {
        "id": "WD8dAu5cOMrA"
      },
      "source": [
        "ticker = \"NAB.AX\"\n",
        "ext = \"NAB.AX\""
      ],
      "execution_count": null,
      "outputs": []
    },
    {
      "cell_type": "code",
      "metadata": {
        "colab": {
          "base_uri": "https://localhost:8080/"
        },
        "id": "V4IhWjWoOUS-",
        "outputId": "6e072318-e441-4196-9be3-0356f32c01f7"
      },
      "source": [
        "if ticker == ext:\n",
        "  print(\"Same\")\n",
        "else:\n",
        "  print(\"Different\")"
      ],
      "execution_count": null,
      "outputs": [
        {
          "output_type": "stream",
          "name": "stdout",
          "text": [
            "Same\n"
          ]
        }
      ]
    },
    {
      "cell_type": "code",
      "metadata": {
        "id": "N1dDn6yAOeJV"
      },
      "source": [
        "ticker"
      ],
      "execution_count": null,
      "outputs": []
    }
  ]
}