{
  "nbformat": 4,
  "nbformat_minor": 0,
  "metadata": {
    "colab": {
      "name": "assignment_input_validation.ipynb",
      "provenance": [],
      "authorship_tag": "ABX9TyMBbVujvKRcmwZEl+IjBVV6",
      "include_colab_link": true
    },
    "kernelspec": {
      "name": "python3",
      "display_name": "Python 3"
    },
    "language_info": {
      "name": "python"
    }
  },
  "cells": [
    {
      "cell_type": "markdown",
      "metadata": {
        "id": "view-in-github",
        "colab_type": "text"
      },
      "source": [
        "<a href=\"https://colab.research.google.com/github/steve-keys/Assignment---1--Intro-to-Programming/blob/main/assignment_input_validation.ipynb\" target=\"_parent\"><img src=\"https://colab.research.google.com/assets/colab-badge.svg\" alt=\"Open In Colab\"/></a>"
      ]
    },
    {
      "cell_type": "code",
      "metadata": {
        "id": "7HiaISboH1yD"
      },
      "source": [
        ""
      ],
      "execution_count": null,
      "outputs": []
    },
    {
      "cell_type": "code",
      "metadata": {
        "id": "SEyxtAk6GkKE"
      },
      "source": [
        "def get_ticker():\n",
        "  company_ticker = input(\"What is your Company's Stock Market Ticker Symbol? \")\n",
        "  url = \"https://au.finance.yahoo.com/quote/{}/profile?p={}\".format(company_ticker,company_ticker)\n",
        "  return url"
      ],
      "execution_count": 1,
      "outputs": []
    },
    {
      "cell_type": "code",
      "metadata": {
        "id": "StLKCSDKH5qq"
      },
      "source": [
        ""
      ],
      "execution_count": null,
      "outputs": []
    },
    {
      "cell_type": "code",
      "metadata": {
        "colab": {
          "base_uri": "https://localhost:8080/",
          "height": 52
        },
        "id": "zyKX926tS8fT",
        "outputId": "eb596567-666f-4ed4-c931-ef9a2631ed93"
      },
      "source": [
        "get_ticker()"
      ],
      "execution_count": 2,
      "outputs": [
        {
          "name": "stdout",
          "output_type": "stream",
          "text": [
            "What is your Company's Stock Market Ticker Symbol? nab.ax\n"
          ]
        },
        {
          "output_type": "execute_result",
          "data": {
            "application/vnd.google.colaboratory.intrinsic+json": {
              "type": "string"
            },
            "text/plain": [
              "'https://au.finance.yahoo.com/quote/nab.ax/profile?p=nab.ax'"
            ]
          },
          "metadata": {},
          "execution_count": 2
        }
      ]
    }
  ]
}