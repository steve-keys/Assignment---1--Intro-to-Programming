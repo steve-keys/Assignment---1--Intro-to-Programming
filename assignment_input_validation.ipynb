{
  "nbformat": 4,
  "nbformat_minor": 0,
  "metadata": {
    "colab": {
      "name": "assignment_input_validation.ipynb",
      "provenance": [],
      "authorship_tag": "ABX9TyN4aDP8+jfIsp9T32M2+pD3",
      "include_colab_link": true
    },
    "kernelspec": {
      "name": "python3",
      "display_name": "Python 3"
    },
    "language_info": {
      "name": "python"
    }
  },
  "cells": [
    {
      "cell_type": "markdown",
      "metadata": {
        "id": "view-in-github",
        "colab_type": "text"
      },
      "source": [
        "<a href=\"https://colab.research.google.com/github/steve-keys/Assignment---1--Intro-to-Programming/blob/main/assignment_input_validation.ipynb\" target=\"_parent\"><img src=\"https://colab.research.google.com/assets/colab-badge.svg\" alt=\"Open In Colab\"/></a>"
      ]
    },
    {
      "cell_type": "code",
      "metadata": {
        "id": "7HiaISboH1yD"
      },
      "source": [
        "'''\n",
        "install packages\n",
        "'''\n",
        "!pip install PyInputPlus\n",
        "'''\n",
        "import libraries\n",
        "'''\n",
        "import pyinputplus as pyip\n"
      ],
      "execution_count": null,
      "outputs": []
    },
    {
      "cell_type": "code",
      "metadata": {
        "id": "qeFf6bfgg74X"
      },
      "source": [
        "help(pyip)"
      ],
      "execution_count": null,
      "outputs": []
    },
    {
      "cell_type": "code",
      "metadata": {
        "id": "hOv1Qjjvghvp"
      },
      "source": [
        "company_ticker = inputStr(\"What is your Company's Stock Market Ticker Symbol? \")\n"
      ],
      "execution_count": null,
      "outputs": []
    },
    {
      "cell_type": "code",
      "metadata": {
        "id": "SEyxtAk6GkKE",
        "colab": {
          "base_uri": "https://localhost:8080/",
          "height": 129
        },
        "outputId": "27b88e1b-0de3-4c67-c811-d475444e0edb"
      },
      "source": [
        "def get_ticker():\n",
        "    company_ticker = input(\"What is your Company's Stock Market Ticker Symbol? \")\n",
        "  while true:\n",
        "    company_ticker = input(\"What is your Company's Stock Market Ticker Symbol? \")\n",
        "\n",
        "    extension = ticker[-3:]\n",
        "\n",
        "  if  extension ='.AX':\n",
        "\n",
        "  break\n",
        "\n",
        "  else\n",
        "\n",
        "print(“Error: Only Australian companies allowed, please make sure ticker end with .AX”)\n",
        "\n",
        "\n",
        "  url = \"https://au.finance.yahoo.com/quote/{}/profile?p={}\".format(company_ticker,company_ticker)\n",
        "  return url"
      ],
      "execution_count": 15,
      "outputs": [
        {
          "output_type": "error",
          "ename": "IndentationError",
          "evalue": "ignored",
          "traceback": [
            "\u001b[0;36m  File \u001b[0;32m\"<ipython-input-15-c2f302783c74>\"\u001b[0;36m, line \u001b[0;32m3\u001b[0m\n\u001b[0;31m    while true:\u001b[0m\n\u001b[0m               ^\u001b[0m\n\u001b[0;31mIndentationError\u001b[0m\u001b[0;31m:\u001b[0m unindent does not match any outer indentation level\n"
          ]
        }
      ]
    },
    {
      "cell_type": "code",
      "metadata": {
        "colab": {
          "base_uri": "https://localhost:8080/",
          "height": 52
        },
        "id": "zyKX926tS8fT",
        "outputId": "d4ba3dc9-59b7-4b8d-c85c-23b9ed9d2b8a"
      },
      "source": [
        "get_ticker()"
      ],
      "execution_count": 5,
      "outputs": [
        {
          "name": "stdout",
          "output_type": "stream",
          "text": [
            "What is your Company's Stock Market Ticker Symbol? nab.ax\n"
          ]
        },
        {
          "output_type": "execute_result",
          "data": {
            "application/vnd.google.colaboratory.intrinsic+json": {
              "type": "string"
            },
            "text/plain": [
              "'https://au.finance.yahoo.com/quote/nab.ax/profile?p=nab.ax'"
            ]
          },
          "metadata": {},
          "execution_count": 5
        }
      ]
    },
    {
      "cell_type": "code",
      "metadata": {
        "id": "KfCVJ0X8KJVc",
        "colab": {
          "base_uri": "https://localhost:8080/",
          "height": 129
        },
        "outputId": "aa34fb05-7b93-4b8f-edcc-841afd2dd250"
      },
      "source": [
        "#Now if we compare extension to ‘.AX’, if they are the same, then we probably have an Australian company\n",
        "\n",
        "  while true:\n",
        "    company_ticker = input(\"What is your Company's Stock Market Ticker Symbol? \")\n",
        "\n",
        "    extension = ticker[-3:]\n",
        "\n",
        "  if  extension ='.AX':\n",
        "\n",
        "  break\n",
        "\n",
        "  else\n",
        "\n",
        "print(“Error: Only Australian companies allowed, please make sure ticker end with .AX”)\n",
        "\n",
        "# Continue with the rest of the program"
      ],
      "execution_count": 13,
      "outputs": [
        {
          "output_type": "error",
          "ename": "IndentationError",
          "evalue": "ignored",
          "traceback": [
            "\u001b[0;36m  File \u001b[0;32m\"<ipython-input-13-c8927b89c67d>\"\u001b[0;36m, line \u001b[0;32m3\u001b[0m\n\u001b[0;31m    while true:\u001b[0m\n\u001b[0m    ^\u001b[0m\n\u001b[0;31mIndentationError\u001b[0m\u001b[0;31m:\u001b[0m unexpected indent\n"
          ]
        }
      ]
    },
    {
      "cell_type": "code",
      "metadata": {
        "id": "WEnMKalkfdZ4"
      },
      "source": [
        ""
      ],
      "execution_count": null,
      "outputs": []
    }
  ]
}