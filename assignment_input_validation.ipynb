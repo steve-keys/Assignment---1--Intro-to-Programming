{
  "nbformat": 4,
  "nbformat_minor": 0,
  "metadata": {
    "colab": {
      "name": "assignment_input_validation.ipynb",
      "provenance": [],
      "authorship_tag": "ABX9TyNcvMSLsYgc5iTMQMEgBoHC",
      "include_colab_link": true
    },
    "kernelspec": {
      "name": "python3",
      "display_name": "Python 3"
    },
    "language_info": {
      "name": "python"
    }
  },
  "cells": [
    {
      "cell_type": "markdown",
      "metadata": {
        "id": "view-in-github",
        "colab_type": "text"
      },
      "source": [
        "<a href=\"https://colab.research.google.com/github/steve-keys/Assignment---1--Intro-to-Programming/blob/main/assignment_input_validation.ipynb\" target=\"_parent\"><img src=\"https://colab.research.google.com/assets/colab-badge.svg\" alt=\"Open In Colab\"/></a>"
      ]
    },
    {
      "cell_type": "code",
      "metadata": {
        "colab": {
          "base_uri": "https://localhost:8080/"
        },
        "id": "7HiaISboH1yD",
        "outputId": "24c05596-0fc3-4e3d-eb72-da7eb366eb11"
      },
      "source": [
        "'''\n",
        "install packages\n",
        "'''\n",
        "!pip install PyInputPlus\n",
        "'''\n",
        "import libraries\n",
        "'''\n",
        "import pyinputplus as pyip"
      ],
      "execution_count": 8,
      "outputs": [
        {
          "output_type": "stream",
          "name": "stdout",
          "text": [
            "Requirement already satisfied: PyInputPlus in /usr/local/lib/python3.7/dist-packages (0.2.12)\n",
            "Requirement already satisfied: pysimplevalidate>=0.2.7 in /usr/local/lib/python3.7/dist-packages (from PyInputPlus) (0.2.12)\n",
            "Requirement already satisfied: stdiomask>=0.0.3 in /usr/local/lib/python3.7/dist-packages (from PyInputPlus) (0.0.6)\n"
          ]
        }
      ]
    },
    {
      "cell_type": "code",
      "metadata": {
        "id": "SEyxtAk6GkKE"
      },
      "source": [
        "def get_ticker():\n",
        "  company_ticker = input(\"What is your Company's Stock Market Ticker Symbol? \")\n",
        "  url = \"https://au.finance.yahoo.com/quote/{}/profile?p={}\".format(company_ticker,company_ticker)\n",
        "  return url"
      ],
      "execution_count": 9,
      "outputs": []
    },
    {
      "cell_type": "code",
      "metadata": {
        "id": "StLKCSDKH5qq"
      },
      "source": [
        ""
      ],
      "execution_count": null,
      "outputs": []
    },
    {
      "cell_type": "code",
      "metadata": {
        "colab": {
          "base_uri": "https://localhost:8080/",
          "height": 52
        },
        "id": "zyKX926tS8fT",
        "outputId": "a4b10a0c-5bba-4e18-d8c5-db772fedc8d5"
      },
      "source": [
        "get_ticker()"
      ],
      "execution_count": 10,
      "outputs": [
        {
          "name": "stdout",
          "output_type": "stream",
          "text": [
            "What is your Company's Stock Market Ticker Symbol? nab.ax\n"
          ]
        },
        {
          "output_type": "execute_result",
          "data": {
            "application/vnd.google.colaboratory.intrinsic+json": {
              "type": "string"
            },
            "text/plain": [
              "'https://au.finance.yahoo.com/quote/nab.ax/profile?p=nab.ax'"
            ]
          },
          "metadata": {},
          "execution_count": 10
        }
      ]
    }
  ]
}