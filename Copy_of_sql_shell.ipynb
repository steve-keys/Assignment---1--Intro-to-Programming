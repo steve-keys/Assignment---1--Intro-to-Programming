{
  "nbformat": 4,
  "nbformat_minor": 0,
  "metadata": {
    "colab": {
      "name": "Copy of sql_shell.ipynb",
      "provenance": [],
      "include_colab_link": true
    },
    "kernelspec": {
      "name": "python3",
      "display_name": "Python 3"
    },
    "language_info": {
      "name": "python"
    }
  },
  "cells": [
    {
      "cell_type": "markdown",
      "metadata": {
        "id": "view-in-github",
        "colab_type": "text"
      },
      "source": [
        "<a href=\"https://colab.research.google.com/github/steve-keys/Assignment---1--Intro-to-Programming/blob/main/Copy_of_sql_shell.ipynb\" target=\"_parent\"><img src=\"https://colab.research.google.com/assets/colab-badge.svg\" alt=\"Open In Colab\"/></a>"
      ]
    },
    {
      "cell_type": "markdown",
      "metadata": {
        "id": "mbsVgk4dW_nz"
      },
      "source": [
        "#SQL via Python\n",
        "\n",
        "In this notebook we discuss all the CRUD operations on a SQLite 3 database in Python.\n",
        "\n",
        "We assume some basic understanding ot SQL\n",
        "\n",
        "## Import the library"
      ]
    },
    {
      "cell_type": "code",
      "metadata": {
        "id": "LPimUgLJW-zI"
      },
      "source": [
        "import sqlite3"
      ],
      "execution_count": 1,
      "outputs": []
    },
    {
      "cell_type": "markdown",
      "metadata": {
        "id": "Hw8dIXJ-XmD3"
      },
      "source": [
        "## Create a connection\n",
        "\n",
        "We use the connect method and pass the name of the database"
      ]
    },
    {
      "cell_type": "code",
      "metadata": {
        "id": "mrad4SnyXxgQ"
      },
      "source": [
        "conn = sqlite3.connect(\"mytest.db\")"
      ],
      "execution_count": 2,
      "outputs": []
    },
    {
      "cell_type": "markdown",
      "metadata": {
        "id": "mejA7Nv4XyPH"
      },
      "source": [
        "## Create a cursor object\n",
        "\n",
        "A cursor acts a middleware between a connection and SQL query"
      ]
    },
    {
      "cell_type": "code",
      "metadata": {
        "id": "ZTlVz29LYR9b"
      },
      "source": [
        "cursor = conn.cursor()"
      ],
      "execution_count": 3,
      "outputs": []
    },
    {
      "cell_type": "markdown",
      "metadata": {
        "id": "Sn6PJmYtYdWr"
      },
      "source": [
        "# Create Table\n",
        "\n",
        "Use a common 'pattern'\n",
        "\n",
        "1. Create a SQL command as a string\n",
        "2. User cursor to execture the command\n",
        "3. If needed fetch the results"
      ]
    },
    {
      "cell_type": "code",
      "metadata": {
        "id": "SIGT5zH0Ykd4"
      },
      "source": [
        "query = \"\"\"\n",
        "  CREATE TABLE USER (\n",
        "    id INTEGER NOT NULL PRIMARY KEY AUTOINCREMENT,\n",
        "    name TEXT,\n",
        "    age INTEGER\n",
        ");\n",
        "\"\"\""
      ],
      "execution_count": 4,
      "outputs": []
    },
    {
      "cell_type": "code",
      "metadata": {
        "id": "xuIEUIhRR-GK",
        "colab": {
          "base_uri": "https://localhost:8080/",
          "height": 163
        },
        "outputId": "a80f65cb-03c4-4b47-9ab9-d8110d86635d"
      },
      "source": [
        "cursor.execute(query)"
      ],
      "execution_count": 5,
      "outputs": [
        {
          "output_type": "error",
          "ename": "OperationalError",
          "evalue": "ignored",
          "traceback": [
            "\u001b[0;31m---------------------------------------------------------------------------\u001b[0m",
            "\u001b[0;31mOperationalError\u001b[0m                          Traceback (most recent call last)",
            "\u001b[0;32m<ipython-input-5-70f19cd38195>\u001b[0m in \u001b[0;36m<module>\u001b[0;34m()\u001b[0m\n\u001b[0;32m----> 1\u001b[0;31m \u001b[0mcursor\u001b[0m\u001b[0;34m.\u001b[0m\u001b[0mexecute\u001b[0m\u001b[0;34m(\u001b[0m\u001b[0mquery\u001b[0m\u001b[0;34m)\u001b[0m\u001b[0;34m\u001b[0m\u001b[0;34m\u001b[0m\u001b[0m\n\u001b[0m",
            "\u001b[0;31mOperationalError\u001b[0m: table USER already exists"
          ]
        }
      ]
    },
    {
      "cell_type": "markdown",
      "metadata": {
        "id": "pn3Pj3hlYsBK"
      },
      "source": [
        "# Insert into Table"
      ]
    },
    {
      "cell_type": "code",
      "metadata": {
        "id": "sDDF56NqYy1D"
      },
      "source": [
        "query = \"INSERT INTO user VALUES (1, 'Michael', 21);\""
      ],
      "execution_count": 6,
      "outputs": []
    },
    {
      "cell_type": "code",
      "metadata": {
        "id": "dKkHLZe8TF_L",
        "colab": {
          "base_uri": "https://localhost:8080/"
        },
        "outputId": "10ec2d16-2466-48ad-ab48-52c028f13aa3"
      },
      "source": [
        "cursor.execute(query)"
      ],
      "execution_count": 7,
      "outputs": [
        {
          "output_type": "execute_result",
          "data": {
            "text/plain": [
              "<sqlite3.Cursor at 0x7f99a9e8d730>"
            ]
          },
          "metadata": {},
          "execution_count": 7
        }
      ]
    },
    {
      "cell_type": "markdown",
      "metadata": {
        "id": "0q9-ZbAHY30U"
      },
      "source": [
        "## Fetching Data"
      ]
    },
    {
      "cell_type": "code",
      "metadata": {
        "id": "6fft_Fo-Y6TM",
        "colab": {
          "base_uri": "https://localhost:8080/"
        },
        "outputId": "ad1b179a-bf4b-4dfc-862a-c02bc056948b"
      },
      "source": [
        "query = \"SELECT * FROM user;\"\n",
        "\n",
        "cursor.execute(query)"
      ],
      "execution_count": 8,
      "outputs": [
        {
          "output_type": "execute_result",
          "data": {
            "text/plain": [
              "<sqlite3.Cursor at 0x7f99a9e8d730>"
            ]
          },
          "metadata": {},
          "execution_count": 8
        }
      ]
    },
    {
      "cell_type": "code",
      "metadata": {
        "id": "nEl6VMWoTfZ-",
        "colab": {
          "base_uri": "https://localhost:8080/"
        },
        "outputId": "d2ee42d9-1f88-463d-8b27-dc1cb7752bb6"
      },
      "source": [
        "result = cursor.fetchall()\n",
        "result[0]"
      ],
      "execution_count": 9,
      "outputs": [
        {
          "output_type": "execute_result",
          "data": {
            "text/plain": [
              "(1, 'Michael', 21)"
            ]
          },
          "metadata": {},
          "execution_count": 9
        }
      ]
    },
    {
      "cell_type": "markdown",
      "metadata": {
        "id": "CMhqzLZbY8r-"
      },
      "source": [
        "## Updating Data"
      ]
    },
    {
      "cell_type": "code",
      "metadata": {
        "id": "ZYniV-zoTd-z"
      },
      "source": [
        "query = \"\"\"\n",
        "UPDATE user SET name = \"Batman\" WHERE name = 'Michael';\n",
        "\"\"\""
      ],
      "execution_count": 10,
      "outputs": []
    },
    {
      "cell_type": "code",
      "metadata": {
        "id": "ojzfQW6vY_uX",
        "colab": {
          "base_uri": "https://localhost:8080/"
        },
        "outputId": "49db5bd6-d3e1-4784-9aa6-8d13cb509506"
      },
      "source": [
        "conn.execute(query)"
      ],
      "execution_count": 11,
      "outputs": [
        {
          "output_type": "execute_result",
          "data": {
            "text/plain": [
              "<sqlite3.Cursor at 0x7f99a6c0fa40>"
            ]
          },
          "metadata": {},
          "execution_count": 11
        }
      ]
    },
    {
      "cell_type": "code",
      "metadata": {
        "id": "x0TCc-nsUi07",
        "colab": {
          "base_uri": "https://localhost:8080/"
        },
        "outputId": "695f0b34-87f3-4e6f-ca94-5b59cfc5aec9"
      },
      "source": [
        "query = \"SELECT * FROM user;\"\n",
        "cursor.execute(query)\n",
        "result = cursor.fetchall()\n",
        "result"
      ],
      "execution_count": 12,
      "outputs": [
        {
          "output_type": "execute_result",
          "data": {
            "text/plain": [
              "[(1, 'Batman', 21)]"
            ]
          },
          "metadata": {},
          "execution_count": 12
        }
      ]
    },
    {
      "cell_type": "markdown",
      "metadata": {
        "id": "-tk5M9E9ZBPO"
      },
      "source": [
        "## Delete Data"
      ]
    },
    {
      "cell_type": "code",
      "metadata": {
        "id": "VI52gWODZCsF",
        "colab": {
          "base_uri": "https://localhost:8080/"
        },
        "outputId": "b13bd84b-e62e-4f3e-cbff-44bc6add83a3"
      },
      "source": [
        "query = \"\"\"\n",
        "DELETE FROM user WHERE name = 'Batman';\n",
        "\"\"\"\n",
        "conn.execute(query)\n",
        "query = \"SELECT * FROM user;\"\n",
        "cursor.execute(query)\n",
        "result = cursor.fetchall()\n",
        "result"
      ],
      "execution_count": 16,
      "outputs": [
        {
          "output_type": "execute_result",
          "data": {
            "text/plain": [
              "[]"
            ]
          },
          "metadata": {},
          "execution_count": 16
        }
      ]
    },
    {
      "cell_type": "markdown",
      "metadata": {
        "id": "ZqFcuamRZJ9W"
      },
      "source": [
        "## View Schema"
      ]
    },
    {
      "cell_type": "code",
      "metadata": {
        "id": "1Ovfl-_OZOPk",
        "colab": {
          "base_uri": "https://localhost:8080/"
        },
        "outputId": "99271b00-80f5-4f39-d6e6-9ab4ef67726a"
      },
      "source": [
        "query = \"SELECT name FROM sqlite_master WHERE type = 'table';\"\n",
        "cursor.execute(query)\n",
        "result = cursor.fetchall()\n",
        "result"
      ],
      "execution_count": 13,
      "outputs": [
        {
          "output_type": "execute_result",
          "data": {
            "text/plain": [
              "[('USER',), ('sqlite_sequence',)]"
            ]
          },
          "metadata": {},
          "execution_count": 13
        }
      ]
    },
    {
      "cell_type": "code",
      "metadata": {
        "id": "B6-fiF01VuIi",
        "colab": {
          "base_uri": "https://localhost:8080/"
        },
        "outputId": "bcdd996f-2a93-465f-9647-a1dbfcff4792"
      },
      "source": [
        "def get_tables(cursor):\n",
        "  query = \"SELECT name FROM sqlite_master WHERE type = 'table';\"\n",
        "  cursor.execute(query)\n",
        "  result = cursor.fetchall()\n",
        "\n",
        "  tables = []\n",
        "  for item in result:\n",
        "    tables.append(item[0])\n",
        "\n",
        "  return(tables)\n",
        "\n",
        "get_tables(cursor)"
      ],
      "execution_count": 14,
      "outputs": [
        {
          "output_type": "execute_result",
          "data": {
            "text/plain": [
              "['USER', 'sqlite_sequence']"
            ]
          },
          "metadata": {},
          "execution_count": 14
        }
      ]
    },
    {
      "cell_type": "code",
      "metadata": {
        "id": "4A69GZERWdnh",
        "colab": {
          "base_uri": "https://localhost:8080/"
        },
        "outputId": "2a3e600c-c03f-450b-85f9-b4f169082602"
      },
      "source": [
        "for table in get_tables(cursor):\n",
        "  cursor.execute(\"PRAGMA table_info('%s')\" % table)\n",
        "  result = cursor.fetchall()\n",
        "  print(table + \":\" + str(result) + '\\n')"
      ],
      "execution_count": 15,
      "outputs": [
        {
          "output_type": "stream",
          "name": "stdout",
          "text": [
            "USER:[(0, 'id', 'INTEGER', 1, None, 1), (1, 'name', 'TEXT', 0, None, 0), (2, 'age', 'INTEGER', 0, None, 0)]\n",
            "\n",
            "sqlite_sequence:[(0, 'name', '', 0, None, 0), (1, 'seq', '', 0, None, 0)]\n",
            "\n"
          ]
        }
      ]
    },
    {
      "cell_type": "markdown",
      "metadata": {
        "id": "-ldwT9WyZE-2"
      },
      "source": [
        "## Delete Table"
      ]
    },
    {
      "cell_type": "code",
      "metadata": {
        "id": "cyFWke0AZHI-"
      },
      "source": [
        ""
      ],
      "execution_count": 15,
      "outputs": []
    }
  ]
}