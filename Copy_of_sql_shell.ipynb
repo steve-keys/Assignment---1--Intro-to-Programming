{
  "nbformat": 4,
  "nbformat_minor": 0,
  "metadata": {
    "colab": {
      "name": "Copy of sql_shell.ipynb",
      "provenance": [],
      "include_colab_link": true
    },
    "kernelspec": {
      "name": "python3",
      "display_name": "Python 3"
    },
    "language_info": {
      "name": "python"
    }
  },
  "cells": [
    {
      "cell_type": "markdown",
      "metadata": {
        "id": "view-in-github",
        "colab_type": "text"
      },
      "source": [
        "<a href=\"https://colab.research.google.com/github/steve-keys/Assignment---1--Intro-to-Programming/blob/main/Copy_of_sql_shell.ipynb\" target=\"_parent\"><img src=\"https://colab.research.google.com/assets/colab-badge.svg\" alt=\"Open In Colab\"/></a>"
      ]
    },
    {
      "cell_type": "markdown",
      "metadata": {
        "id": "mbsVgk4dW_nz"
      },
      "source": [
        "#SQL via Python\n",
        "\n",
        "In this notebook we discuss all the CRUD operations on a SQLite 3 database in Python.\n",
        "\n",
        "We assume some basic understanding ot SQL\n",
        "\n",
        "## Import the library"
      ]
    },
    {
      "cell_type": "code",
      "metadata": {
        "id": "LPimUgLJW-zI"
      },
      "source": [
        "import sqlite3"
      ],
      "execution_count": null,
      "outputs": []
    },
    {
      "cell_type": "markdown",
      "metadata": {
        "id": "Hw8dIXJ-XmD3"
      },
      "source": [
        "## Create a connection\n",
        "\n",
        "We use the connect method and pass the name of the database"
      ]
    },
    {
      "cell_type": "code",
      "metadata": {
        "id": "mrad4SnyXxgQ"
      },
      "source": [
        "conn = sqlite3.connect(\"mytest.db\")"
      ],
      "execution_count": null,
      "outputs": []
    },
    {
      "cell_type": "markdown",
      "metadata": {
        "id": "mejA7Nv4XyPH"
      },
      "source": [
        "## Create a cursor object\n",
        "\n",
        "A cursor acts a middleware between a connection and SQL query"
      ]
    },
    {
      "cell_type": "code",
      "metadata": {
        "id": "ZTlVz29LYR9b"
      },
      "source": [
        "cursor = conn.cursor()"
      ],
      "execution_count": null,
      "outputs": []
    },
    {
      "cell_type": "markdown",
      "metadata": {
        "id": "Sn6PJmYtYdWr"
      },
      "source": [
        "# Create Table\n",
        "\n",
        "Use a common 'pattern'\n",
        "\n",
        "1. Create a SQL command as a string\n",
        "2. User cursor to execture the command\n",
        "3. If needed fetch the results"
      ]
    },
    {
      "cell_type": "code",
      "metadata": {
        "id": "SIGT5zH0Ykd4"
      },
      "source": [
        "query = \"\"\"\n",
        "  CREATE TABLE USER (\n",
        "    id INTEGER NOT NULL PRIMARY KEY AUTOINCREMENT,\n",
        "    name TEXT,\n",
        "    age INTEGER\n",
        ");\n",
        "\"\"\""
      ],
      "execution_count": null,
      "outputs": []
    },
    {
      "cell_type": "code",
      "metadata": {
        "id": "xuIEUIhRR-GK",
        "colab": {
          "base_uri": "https://localhost:8080/",
          "height": 163
        },
        "outputId": "a4741c66-bc7e-4429-e965-c6469fd3ccb1"
      },
      "source": [
        "cursor.execute(query)"
      ],
      "execution_count": null,
      "outputs": [
        {
          "output_type": "error",
          "ename": "NameError",
          "evalue": "ignored",
          "traceback": [
            "\u001b[0;31m---------------------------------------------------------------------------\u001b[0m",
            "\u001b[0;31mNameError\u001b[0m                                 Traceback (most recent call last)",
            "\u001b[0;32m<ipython-input-2-70f19cd38195>\u001b[0m in \u001b[0;36m<module>\u001b[0;34m()\u001b[0m\n\u001b[0;32m----> 1\u001b[0;31m \u001b[0mcursor\u001b[0m\u001b[0;34m.\u001b[0m\u001b[0mexecute\u001b[0m\u001b[0;34m(\u001b[0m\u001b[0mquery\u001b[0m\u001b[0;34m)\u001b[0m\u001b[0;34m\u001b[0m\u001b[0;34m\u001b[0m\u001b[0m\n\u001b[0m",
            "\u001b[0;31mNameError\u001b[0m: name 'cursor' is not defined"
          ]
        }
      ]
    },
    {
      "cell_type": "markdown",
      "metadata": {
        "id": "pn3Pj3hlYsBK"
      },
      "source": [
        "# Insert into Table"
      ]
    },
    {
      "cell_type": "code",
      "metadata": {
        "id": "sDDF56NqYy1D"
      },
      "source": [
        "query = \"INSERT INTO user VALUES (1, 'Michael', 21);\""
      ],
      "execution_count": null,
      "outputs": []
    },
    {
      "cell_type": "code",
      "metadata": {
        "id": "dKkHLZe8TF_L",
        "colab": {
          "base_uri": "https://localhost:8080/"
        },
        "outputId": "35b130dd-9343-4757-b00b-9f0e4d993d19"
      },
      "source": [
        "cursor.execute(query)"
      ],
      "execution_count": null,
      "outputs": [
        {
          "output_type": "execute_result",
          "data": {
            "text/plain": [
              "<sqlite3.Cursor at 0x7f8104dd09d0>"
            ]
          },
          "metadata": {},
          "execution_count": 32
        }
      ]
    },
    {
      "cell_type": "markdown",
      "metadata": {
        "id": "0q9-ZbAHY30U"
      },
      "source": [
        "## Fetching Data"
      ]
    },
    {
      "cell_type": "code",
      "metadata": {
        "id": "6fft_Fo-Y6TM",
        "colab": {
          "base_uri": "https://localhost:8080/"
        },
        "outputId": "bbe6eff3-522f-4857-8c2d-1cce91a3af41"
      },
      "source": [
        "query = \"SELECT * FROM user;\"\n",
        "\n",
        "cursor.execute(query)"
      ],
      "execution_count": null,
      "outputs": [
        {
          "output_type": "execute_result",
          "data": {
            "text/plain": [
              "<sqlite3.Cursor at 0x7f8104dd09d0>"
            ]
          },
          "metadata": {},
          "execution_count": 24
        }
      ]
    },
    {
      "cell_type": "code",
      "metadata": {
        "id": "nEl6VMWoTfZ-",
        "colab": {
          "base_uri": "https://localhost:8080/"
        },
        "outputId": "2464e772-8f13-4d04-f3f6-a557f4dcd58f"
      },
      "source": [
        "result = cursor.fetchall()\n",
        "result[0]"
      ],
      "execution_count": null,
      "outputs": [
        {
          "output_type": "execute_result",
          "data": {
            "text/plain": [
              "(0, 'Michael', 21)"
            ]
          },
          "metadata": {},
          "execution_count": 25
        }
      ]
    },
    {
      "cell_type": "markdown",
      "metadata": {
        "id": "CMhqzLZbY8r-"
      },
      "source": [
        "## Updating Data"
      ]
    },
    {
      "cell_type": "code",
      "metadata": {
        "id": "ZYniV-zoTd-z"
      },
      "source": [
        "query = \"\"\"\n",
        "UPDATE user SET name = \"Batman\" WHERE name = 'Michael';\n",
        "\"\"\""
      ],
      "execution_count": null,
      "outputs": []
    },
    {
      "cell_type": "code",
      "metadata": {
        "id": "ojzfQW6vY_uX",
        "colab": {
          "base_uri": "https://localhost:8080/"
        },
        "outputId": "14b80d79-85be-494c-8296-4a492c728efd"
      },
      "source": [
        "conn.execute(query)"
      ],
      "execution_count": null,
      "outputs": [
        {
          "output_type": "execute_result",
          "data": {
            "text/plain": [
              "<sqlite3.Cursor at 0x7f8100bcdf10>"
            ]
          },
          "metadata": {},
          "execution_count": 27
        }
      ]
    },
    {
      "cell_type": "code",
      "metadata": {
        "id": "x0TCc-nsUi07",
        "colab": {
          "base_uri": "https://localhost:8080/"
        },
        "outputId": "ce1338f4-e98b-4412-da6f-9c379c32bbb6"
      },
      "source": [
        "query = \"SELECT * FROM user;\"\n",
        "cursor.execute(query)\n",
        "result = cursor.fetchall()\n",
        "result"
      ],
      "execution_count": null,
      "outputs": [
        {
          "output_type": "execute_result",
          "data": {
            "text/plain": [
              "[(0, 'Batman', 21), (1, 'Michael', 21)]"
            ]
          },
          "metadata": {},
          "execution_count": 34
        }
      ]
    },
    {
      "cell_type": "markdown",
      "metadata": {
        "id": "-tk5M9E9ZBPO"
      },
      "source": [
        "## Delete Data"
      ]
    },
    {
      "cell_type": "code",
      "metadata": {
        "id": "VI52gWODZCsF",
        "colab": {
          "base_uri": "https://localhost:8080/"
        },
        "outputId": "39be502e-9f19-440a-9897-52746af34229"
      },
      "source": [
        "query = \"\"\"\n",
        "DELETE FROM user WHERE name = 'Batman';\n",
        "\"\"\"\n",
        "conn.execute(query)\n",
        "query = \"SELECT * FROM user;\"\n",
        "cursor.execute(query)\n",
        "result = cursor.fetchall()\n",
        "result"
      ],
      "execution_count": null,
      "outputs": [
        {
          "output_type": "execute_result",
          "data": {
            "text/plain": [
              "[(1, 'Michael', 21)]"
            ]
          },
          "metadata": {},
          "execution_count": 35
        }
      ]
    },
    {
      "cell_type": "markdown",
      "metadata": {
        "id": "ZqFcuamRZJ9W"
      },
      "source": [
        "## View Schema"
      ]
    },
    {
      "cell_type": "code",
      "metadata": {
        "id": "1Ovfl-_OZOPk",
        "colab": {
          "base_uri": "https://localhost:8080/"
        },
        "outputId": "752df13c-ed47-4241-b902-c7effa29f8fd"
      },
      "source": [
        "query = \"SELECT name FROM sqlite_master WHERE type = 'table';\"\n",
        "cursor.execute(query)\n",
        "result = cursor.fetchall()\n",
        "result"
      ],
      "execution_count": null,
      "outputs": [
        {
          "output_type": "execute_result",
          "data": {
            "text/plain": [
              "[('USER',), ('sqlite_sequence',)]"
            ]
          },
          "metadata": {},
          "execution_count": 38
        }
      ]
    },
    {
      "cell_type": "code",
      "metadata": {
        "id": "B6-fiF01VuIi",
        "colab": {
          "base_uri": "https://localhost:8080/"
        },
        "outputId": "e1bab3b4-72de-49ec-ead2-25b5277d2d82"
      },
      "source": [
        "def get_tables(cursor):\n",
        "  query = \"SELECT name FROM sqlite_master WHERE type = 'table';\"\n",
        "  cursor.execute(query)\n",
        "  result = cursor.fetchall()\n",
        "\n",
        "  tables = []\n",
        "  for item in result:\n",
        "    tables.append(item[0])\n",
        "\n",
        "  return(tables)\n",
        "\n",
        "get_tables(cursor)"
      ],
      "execution_count": null,
      "outputs": [
        {
          "output_type": "execute_result",
          "data": {
            "text/plain": [
              "['USER', 'sqlite_sequence']"
            ]
          },
          "metadata": {},
          "execution_count": 41
        }
      ]
    },
    {
      "cell_type": "code",
      "metadata": {
        "id": "4A69GZERWdnh",
        "colab": {
          "base_uri": "https://localhost:8080/"
        },
        "outputId": "84e121f9-e10e-41c4-d8f1-e075a9bd3185"
      },
      "source": [
        "for table in get_tables(cursor):\n",
        "  cursor.execute(\"PRAGMA table_info('%s')\" % table)\n",
        "  result = cursor.fetchall()\n",
        "  print(table + \":\" + str(result) + '\\n')"
      ],
      "execution_count": null,
      "outputs": [
        {
          "output_type": "stream",
          "name": "stdout",
          "text": [
            "USER:[(0, 'id', 'INTEGER', 1, None, 1), (1, 'name', 'TEXT', 0, None, 0), (2, 'age', 'INTEGER', 0, None, 0)]\n",
            "\n",
            "sqlite_sequence:[(0, 'name', '', 0, None, 0), (1, 'seq', '', 0, None, 0)]\n",
            "\n"
          ]
        }
      ]
    },
    {
      "cell_type": "markdown",
      "metadata": {
        "id": "-ldwT9WyZE-2"
      },
      "source": [
        "## Delete Table"
      ]
    },
    {
      "cell_type": "code",
      "metadata": {
        "id": "cyFWke0AZHI-"
      },
      "source": [
        ""
      ],
      "execution_count": null,
      "outputs": []
    }
  ]
}