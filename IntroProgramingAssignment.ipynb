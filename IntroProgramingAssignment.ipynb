{
  "nbformat": 4,
  "nbformat_minor": 0,
  "metadata": {
    "colab": {
      "name": "IntroProgramingAssignment.ipynb",
      "provenance": [],
      "authorship_tag": "ABX9TyPOAo4pJPWs9accIDCAl1XT",
      "include_colab_link": true
    },
    "kernelspec": {
      "name": "python3",
      "display_name": "Python 3"
    },
    "language_info": {
      "name": "python"
    }
  },
  "cells": [
    {
      "cell_type": "markdown",
      "metadata": {
        "id": "view-in-github",
        "colab_type": "text"
      },
      "source": [
        "<a href=\"https://colab.research.google.com/github/steve-keys/Assignment---1--Intro-to-Programming/blob/main/IntroProgramingAssignment.ipynb\" target=\"_parent\"><img src=\"https://colab.research.google.com/assets/colab-badge.svg\" alt=\"Open In Colab\"/></a>"
      ]
    },
    {
      "cell_type": "markdown",
      "metadata": {
        "id": "4cvtFStBrNpK"
      },
      "source": [
        "#Assignment - Keys Executives Pay\n",
        "\n",
        "#Task\n",
        "Write a notebook that prompts the user for a company's stock market ticker symbol. Your program then\n",
        "scrapes the Yahoo Finance website to extract information on the key of the company. Then for each\n",
        "executive calculate the expected income tax based on the ATO tax tables. The user can choose if the data\n",
        "will be saved as a CSV and/or stored in an SQLite database.\n",
        "\n",
        "#Approach / Planning\n",
        "My approach to this task began by utilizing the design model we were taught early in the semester, breaking the task down into smaller steps. The main steps I thought about were:\n",
        "\n",
        " * Inputs\n",
        " * Processing \n",
        " * Outputs \n",
        "\n",
        " I  then broke each of these main categories down into smaller tasks again, as outlined below.\n",
        "\n",
        " I began with \"inputs\" as it seemed a logical place to start and I like the input prompt function input(). Working out how to include input validation for the stock market ticker will be much more challenging however.\n",
        "\n",
        " ## Need to research input validation for stock market ticker symbol using form of 3 capital dot AX  e.g. NAB.AX\n",
        "\n",
        "\n"
      ]
    },
    {
      "cell_type": "markdown",
      "metadata": {
        "id": "dqmZRl2Mm9ZZ"
      },
      "source": [
        "##INPUTS#\n",
        "1. Get Company Stock Market Ticker Symbol\n",
        "  * find url - start with Google search for Yahoo Finance page\n",
        "\n",
        "  * Need to find a way to validate the input\n",
        "2. Locate table of Key Executives and their salaries from Yahoo Finance page\n",
        "3. Scrap page for salary data\n",
        "\n",
        "\n",
        "\n",
        "\n"
      ]
    },
    {
      "cell_type": "code",
      "metadata": {
        "colab": {
          "base_uri": "https://localhost:8080/"
        },
        "id": "04bNARERvKHS",
        "outputId": "f474940e-4740-444d-ea25-cec67c2c10d3"
      },
      "source": [
        "company_ticker = input(\"What is your Company's Stock Market Ticker Symbol? \")\n",
        "print(company_ticker)"
      ],
      "execution_count": 1,
      "outputs": [
        {
          "output_type": "stream",
          "name": "stdout",
          "text": [
            "What is your Company's Stock Market Ticker Symbol? CBA.AX\n",
            "CBA.AX\n"
          ]
        }
      ]
    },
    {
      "cell_type": "code",
      "metadata": {
        "id": "W7oNJBpn5f6d"
      },
      "source": [
        "# Search google to Find the URL\n",
        " # url = https://au.finance.yahoo.com/quote/NAB.AX/profile?p=NAB.AX\n",
        "\n",
        " # Looking at different companies on the finance page, a pattern in the url became apparent\n",
        "\n",
        " # https://au.finance.yahoo.com/quote/ANZ.AX/profile?p=ANZ.AXA\n",
        " # https://au.finance.yahoo.com/quote/CBA.AX/profile?p=CBA.AX\n",
        "\n",
        " # The ticker symbol consistently appeared in the same two places in the url string\n",
        "\n",
        " # I then looked for a way to make place holders in the url to accomodate these ticker symbols as variables, that would change according to the input given by the user\n",
        "\n",
        "\n",
        "# Write code to insert tickers in the correct place holders in the URL\n",
        "\n"
      ],
      "execution_count": 4,
      "outputs": []
    },
    {
      "cell_type": "code",
      "metadata": {
        "colab": {
          "base_uri": "https://localhost:8080/",
          "height": 214
        },
        "id": "9bVyRHC5Sc3D",
        "outputId": "053ef7f4-7357-477d-95ff-6d8fe9c58e5b"
      },
      "source": [
        "# Explore how to place variable into a string - e.g. Company Ticker into url\n",
        "company_ticker = 'NAB.AX'\n",
        "url = 'https://au.finance.yahoo.com/quote/{}/profile?p={}'.format(company_ticker)\n",
        "print(url)"
      ],
      "execution_count": 5,
      "outputs": [
        {
          "output_type": "error",
          "ename": "IndexError",
          "evalue": "ignored",
          "traceback": [
            "\u001b[0;31m---------------------------------------------------------------------------\u001b[0m",
            "\u001b[0;31mIndexError\u001b[0m                                Traceback (most recent call last)",
            "\u001b[0;32m<ipython-input-5-4df15134200c>\u001b[0m in \u001b[0;36m<module>\u001b[0;34m()\u001b[0m\n\u001b[1;32m      1\u001b[0m \u001b[0;31m# Explore how to place variable into a string - e.g. Company Ticker into url\u001b[0m\u001b[0;34m\u001b[0m\u001b[0;34m\u001b[0m\u001b[0;34m\u001b[0m\u001b[0m\n\u001b[1;32m      2\u001b[0m \u001b[0mcompany_ticker\u001b[0m \u001b[0;34m=\u001b[0m \u001b[0;34m'NAB.AX'\u001b[0m\u001b[0;34m\u001b[0m\u001b[0;34m\u001b[0m\u001b[0m\n\u001b[0;32m----> 3\u001b[0;31m \u001b[0murl\u001b[0m \u001b[0;34m=\u001b[0m \u001b[0;34m'https://au.finance.yahoo.com/quote/{}/profile?p={}'\u001b[0m\u001b[0;34m.\u001b[0m\u001b[0mformat\u001b[0m\u001b[0;34m(\u001b[0m\u001b[0mcompany_ticker\u001b[0m\u001b[0;34m)\u001b[0m\u001b[0;34m\u001b[0m\u001b[0;34m\u001b[0m\u001b[0m\n\u001b[0m\u001b[1;32m      4\u001b[0m \u001b[0mprint\u001b[0m\u001b[0;34m(\u001b[0m\u001b[0murl\u001b[0m\u001b[0;34m)\u001b[0m\u001b[0;34m\u001b[0m\u001b[0;34m\u001b[0m\u001b[0m\n",
            "\u001b[0;31mIndexError\u001b[0m: tuple index out of range"
          ]
        }
      ]
    },
    {
      "cell_type": "code",
      "metadata": {
        "colab": {
          "base_uri": "https://localhost:8080/"
        },
        "id": "fLPq4p2AzneR",
        "outputId": "3e592844-38a8-48cf-b6cb-4dbecbd31e44"
      },
      "source": [
        "# Eventually I discoverd through some research that even though there is only one variable in the string, because it appears in two places we need to enter it twice in the format function\n",
        "\n",
        "company_ticker = 'NAB.AX'\n",
        "url = \"https://au.finance.yahoo.com/quote/{}/profile?p={}\".format(company_ticker,company_ticker)\n",
        "print(url)\n"
      ],
      "execution_count": 11,
      "outputs": [
        {
          "output_type": "stream",
          "name": "stdout",
          "text": [
            "https://au.finance.yahoo.com/quote/NAB.AX/profile?p=NAB.AX\n"
          ]
        }
      ]
    },
    {
      "cell_type": "code",
      "metadata": {
        "colab": {
          "base_uri": "https://localhost:8080/"
        },
        "id": "26FAAYIe1EyV",
        "outputId": "f1767c38-42a4-430f-8010-e1708287f5d9"
      },
      "source": [
        "company_ticker = input(\"What is your Company's Stock Market Ticker Symbol? \")\n",
        "url = \"https://au.finance.yahoo.com/quote/{}/profile?p={}\".format(company_ticker,company_ticker)\n",
        "print(url)"
      ],
      "execution_count": 12,
      "outputs": [
        {
          "output_type": "stream",
          "name": "stdout",
          "text": [
            "What is your Company's Stock Market Ticker Symbol? ANZ.AX\n",
            "https://au.finance.yahoo.com/quote/ANZ.AX/profile?p=ANZ.AX\n"
          ]
        }
      ]
    },
    {
      "cell_type": "markdown",
      "metadata": {
        "id": "bxxcNnctvApv"
      },
      "source": [
        "##PROCESSING#\n",
        "\n",
        "1. Use salary data to compute the tax payable for each executive\n",
        "2. Use tax tables and functions created in previous notebook to calculate tax payable"
      ]
    },
    {
      "cell_type": "code",
      "metadata": {
        "id": "3S42mgOOb0xe"
      },
      "source": [
        ""
      ],
      "execution_count": null,
      "outputs": []
    },
    {
      "cell_type": "code",
      "metadata": {
        "id": "eLe7GQA3m8DZ"
      },
      "source": [
        "## Steps\n",
        "#1. Get the income\n",
        "#2. Calculate the tax payable\n",
        "\n",
        "# Step 1 - Get the income amount\n",
        "income = int(input(\"What is your income for the year? \"))\n",
        "print(\"Your income is \" , income)\n",
        "\n",
        "# Step 2 - Calculate the tax payable\n",
        "# if you earn $18,200, then pay no tax\n",
        "# else if you earn between $18,201 – $45,000, \n",
        "#    then pay 0.19 cents for every dollar over 18,200\n",
        "\n",
        "if income <= 18200:\n",
        "  tax_payable = 0\n",
        "elif 18200 < income <= 45000: \n",
        "  tax_payable = 0.19 * (income - 18200)\n",
        "elif 45000 < income <= 120000:\n",
        "  tax_payable = 5092 + 0.32 * (income - 45000)\n",
        "elif 120000 < income <= 180000:\n",
        "  tax_payable = 29467 + 0.37 * (income - 120000)\n",
        "elif income > 180000:     \n",
        "  tax_payable = 51667 + 0.45 * (income - 180000)        \n",
        "print(\"Your tax payable is \", tax_payable)"
      ],
      "execution_count": null,
      "outputs": []
    },
    {
      "cell_type": "code",
      "metadata": {
        "id": "ezuDcmKZ1Bh_"
      },
      "source": [
        "def get_income():\n",
        "  '''\n",
        "  This function will prompt the user for the income and return the value\n",
        "  '''\n",
        "  income = int(input(\"What is your income for the year? \"))\n",
        "  print(\"Your income is \" , income)\n",
        "  return income"
      ],
      "execution_count": null,
      "outputs": []
    },
    {
      "cell_type": "code",
      "metadata": {
        "id": "2Uh5ZuLW1McW"
      },
      "source": [
        "def calculate_tax (income):\n",
        "  if income <= 18200:\n",
        "    tax_payable = 0\n",
        "  elif 18200 < income <= 45000: \n",
        "    tax_payable = 0.19 * (income - 18200)\n",
        "  elif 45000 < income <= 120000:\n",
        "    tax_payable = 5092 + 0.32 * (income - 45000)\n",
        "  elif 120000 < income <= 180000:\n",
        "    tax_payable = 29467 + 0.37 * (income - 120000)\n",
        "  elif income > 180000:     \n",
        "    tax_payable = 51667 + 0.45 * (income - 180000)        \n",
        "  \n",
        "  return tax_payable"
      ],
      "execution_count": null,
      "outputs": []
    },
    {
      "cell_type": "code",
      "metadata": {
        "id": "zidxhc7D1TGe"
      },
      "source": [
        "# 'Main line'\n",
        "\n",
        "# Step 1\n",
        "income = get_income ()\n",
        "# Step 2\n",
        "tax = calculate_tax(income)\n",
        "\n",
        "print(\"Your tax payable is \", tax)"
      ],
      "execution_count": null,
      "outputs": []
    },
    {
      "cell_type": "markdown",
      "metadata": {
        "id": "E4JTZ6eVJ_zX"
      },
      "source": [
        "# Lets manually calculate the income tax\n",
        "```\n",
        "Mr. Ross Maxwell McEwan CBE, B.B.S.\tGroup CEO, MD & Director\t2.54M\tN/A\t1957\n",
        "Mr. Gary Andrew Lennon BEC, F.C.A., BEc (Hons), FCA\tGroup Chief Financial Officer\t1.13M\tN/A\tN/A\n",
        "Mr. Patrick F. Wright\tGroup Exec. of Technology & Enterprise Operations\t1.72M\tN/A\t1967\n",
        "Ms. Sharon J. Cook\tGroup Exec. of Legal & Commercial Services\t912.98k\tN/A\tN/A\n",
        "Ms. Susan Ferrier\tGroup Exec. of People & Culture\t929.27k\tN/A\tN/A\n",
        "Ms. Angela Mentis B.Bus\tGroup Chief Digital, Data & Analytics Officer\t1.62M\tN/A\tN/A\n",
        "Mr. Shaun Dooley\tChief Risk Officer\t1.05M\tN/A\tN/A\n",
        "Mr. Andrew Irvine\tChief Exec. of Bus. Private Banking Division\t333.27k\tN/A\tN/A\n",
        "Mr. Lesile D. Matheson\tGroup Chief Operating Officer\tN/A\tN/A\t1960\n",
        "Ms. Sally Mihell\tHead of Investor Relations\tN/A\tN/A\tN/A\n",
        "```"
      ]
    },
    {
      "cell_type": "markdown",
      "metadata": {
        "id": "KiqY-lcwvHZD"
      },
      "source": [
        "##OUTPUTS#\n",
        "Save data in CSV and/or\n",
        "Store in an SQLite database\n",
        "\n",
        "User to choose how data is saved"
      ]
    },
    {
      "cell_type": "code",
      "metadata": {
        "id": "N4LxNT7YvI8Z"
      },
      "source": [
        ""
      ],
      "execution_count": null,
      "outputs": []
    }
  ]
}