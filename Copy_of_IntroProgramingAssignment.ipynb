{
  "nbformat": 4,
  "nbformat_minor": 0,
  "metadata": {
    "colab": {
      "name": "Copy of IntroProgramingAssignment.ipynb",
      "provenance": [],
      "authorship_tag": "ABX9TyOt9JWBlb/gUrxpJN3TvmUO",
      "include_colab_link": true
    },
    "kernelspec": {
      "name": "python3",
      "display_name": "Python 3"
    },
    "language_info": {
      "name": "python"
    }
  },
  "cells": [
    {
      "cell_type": "markdown",
      "metadata": {
        "id": "view-in-github",
        "colab_type": "text"
      },
      "source": [
        "<a href=\"https://colab.research.google.com/github/steve-keys/Assignment---1--Intro-to-Programming/blob/main/Copy_of_IntroProgramingAssignment.ipynb\" target=\"_parent\"><img src=\"https://colab.research.google.com/assets/colab-badge.svg\" alt=\"Open In Colab\"/></a>"
      ]
    },
    {
      "cell_type": "markdown",
      "metadata": {
        "id": "4cvtFStBrNpK"
      },
      "source": [
        "#Assignment - Keys Executives Pay\n",
        "\n",
        "#By Steven Keys - Student ID 20783967\n",
        "---\n",
        "\n",
        "#Task\n",
        "Write a notebook that prompts the user for a company's stock market ticker symbol. Your program then\n",
        "scrapes the Yahoo Finance website to extract information on the key of the company. Then for each\n",
        "executive calculate the expected income tax based on the ATO tax tables. The user can choose if the data\n",
        "will be saved as a CSV and/or stored in an SQLite database.\n",
        "\n",
        "#Approach / Planning\n",
        "My approach to this task began by utilizing the design model we were taught early in the semester, breaking the task down into smaller steps. The main steps I thought about were:\n",
        "\n",
        " * Inputs\n",
        " * Processing \n",
        " * Outputs \n",
        "\n",
        " I  then broke each of these main categories down into smaller tasks again, as outlined below.\n",
        "\n",
        " I began with \"inputs\" as it seemed a logical place to start and I like the input prompt function input(). Working out how to include input validation for the stock market ticker will be much more challenging however.\n",
        "\n",
        " ## Need to research input validation for stock market ticker symbol using form of 3 capital letters followed by dot AX - e.g. NAB.AX\n",
        "\n",
        "\n"
      ]
    },
    {
      "cell_type": "markdown",
      "metadata": {
        "id": "dqmZRl2Mm9ZZ"
      },
      "source": [
        "##INPUTS#\n",
        "1. Get Company Stock Market Ticker Symbol\n",
        "  * find url - start with Google search for Yahoo Finance page\n",
        "\n",
        "  * Need to find a way to validate the input\n",
        "2. Locate table of Key Executives and their salaries from Yahoo Finance page\n",
        "3. Scrap page for salary data\n",
        "\n",
        "\n",
        "\n",
        "\n"
      ]
    },
    {
      "cell_type": "code",
      "metadata": {
        "colab": {
          "base_uri": "https://localhost:8080/"
        },
        "id": "04bNARERvKHS",
        "outputId": "f474940e-4740-444d-ea25-cec67c2c10d3"
      },
      "source": [
        "company_ticker = input(\"What is your Company's Stock Market Ticker Symbol? \")\n",
        "print(company_ticker)"
      ],
      "execution_count": null,
      "outputs": [
        {
          "output_type": "stream",
          "name": "stdout",
          "text": [
            "What is your Company's Stock Market Ticker Symbol? CBA.AX\n",
            "CBA.AX\n"
          ]
        }
      ]
    },
    {
      "cell_type": "code",
      "metadata": {
        "id": "W7oNJBpn5f6d"
      },
      "source": [
        "# Search google to find the URL that provides the salaries of the key executives for that company - eg NAB\n",
        "\n",
        " url = https://au.finance.yahoo.com/quote/NAB.AX/profile?p=NAB.AX\n",
        "\n",
        "# Looking at different companies on the finance page, a pattern in the url became apparent\n",
        "\n",
        " https://au.finance.yahoo.com/quote/ANZ.AX/profile?p=ANZ.AX\n",
        " https://au.finance.yahoo.com/quote/CBA.AX/profile?p=CBA.AX\n",
        "\n",
        "# The ticker symbol consistently appeared in the same two places in the url string\n",
        "\n",
        "# I then looked for a way to make place holders in the url to accomodate these ticker symbols as variables, that would change according to the input given by the user\n",
        "\n",
        "# Write code to insert tickers in the correct place holders in the URL"
      ],
      "execution_count": null,
      "outputs": []
    },
    {
      "cell_type": "code",
      "metadata": {
        "colab": {
          "base_uri": "https://localhost:8080/",
          "height": 214
        },
        "id": "9bVyRHC5Sc3D",
        "outputId": "053ef7f4-7357-477d-95ff-6d8fe9c58e5b"
      },
      "source": [
        "# Explore how to place variables into a string - e.g. Company Ticker into url\n",
        "# company_ticker = 'NAB.AX'\n",
        "# url = 'https://au.finance.yahoo.com/quote/{}/profile?p={}'.format(company_ticker)\n",
        "# print(url)"
      ],
      "execution_count": null,
      "outputs": [
        {
          "output_type": "error",
          "ename": "IndexError",
          "evalue": "ignored",
          "traceback": [
            "\u001b[0;31m---------------------------------------------------------------------------\u001b[0m",
            "\u001b[0;31mIndexError\u001b[0m                                Traceback (most recent call last)",
            "\u001b[0;32m<ipython-input-5-4df15134200c>\u001b[0m in \u001b[0;36m<module>\u001b[0;34m()\u001b[0m\n\u001b[1;32m      1\u001b[0m \u001b[0;31m# Explore how to place variable into a string - e.g. Company Ticker into url\u001b[0m\u001b[0;34m\u001b[0m\u001b[0;34m\u001b[0m\u001b[0;34m\u001b[0m\u001b[0m\n\u001b[1;32m      2\u001b[0m \u001b[0mcompany_ticker\u001b[0m \u001b[0;34m=\u001b[0m \u001b[0;34m'NAB.AX'\u001b[0m\u001b[0;34m\u001b[0m\u001b[0;34m\u001b[0m\u001b[0m\n\u001b[0;32m----> 3\u001b[0;31m \u001b[0murl\u001b[0m \u001b[0;34m=\u001b[0m \u001b[0;34m'https://au.finance.yahoo.com/quote/{}/profile?p={}'\u001b[0m\u001b[0;34m.\u001b[0m\u001b[0mformat\u001b[0m\u001b[0;34m(\u001b[0m\u001b[0mcompany_ticker\u001b[0m\u001b[0;34m)\u001b[0m\u001b[0;34m\u001b[0m\u001b[0;34m\u001b[0m\u001b[0m\n\u001b[0m\u001b[1;32m      4\u001b[0m \u001b[0mprint\u001b[0m\u001b[0;34m(\u001b[0m\u001b[0murl\u001b[0m\u001b[0;34m)\u001b[0m\u001b[0;34m\u001b[0m\u001b[0;34m\u001b[0m\u001b[0m\n",
            "\u001b[0;31mIndexError\u001b[0m: tuple index out of range"
          ]
        }
      ]
    },
    {
      "cell_type": "code",
      "metadata": {
        "colab": {
          "base_uri": "https://localhost:8080/"
        },
        "id": "fLPq4p2AzneR",
        "outputId": "3e592844-38a8-48cf-b6cb-4dbecbd31e44"
      },
      "source": [
        "# Eventually I discovered through some research that even though there is only one variable in the string, because it appears in two places we need to enter it twice in the format function\n",
        "\n",
        "company_ticker = 'NAB.AX'\n",
        "url = \"https://au.finance.yahoo.com/quote/{}/profile?p={}\".format(company_ticker,company_ticker)\n",
        "print(url)\n"
      ],
      "execution_count": null,
      "outputs": [
        {
          "output_type": "stream",
          "name": "stdout",
          "text": [
            "https://au.finance.yahoo.com/quote/NAB.AX/profile?p=NAB.AX\n"
          ]
        }
      ]
    },
    {
      "cell_type": "code",
      "metadata": {
        "colab": {
          "base_uri": "https://localhost:8080/"
        },
        "id": "26FAAYIe1EyV",
        "outputId": "7d9252f8-5e66-4868-eacd-f6dff56af3e5"
      },
      "source": [
        "company_ticker = input(\"What is your Company's Stock Market Ticker Symbol? \")\n",
        "url = \"https://au.finance.yahoo.com/quote/{}/profile?p={}\".format(company_ticker,company_ticker)\n",
        "print(url)"
      ],
      "execution_count": 9,
      "outputs": [
        {
          "output_type": "stream",
          "name": "stdout",
          "text": [
            "What is your Company's Stock Market Ticker Symbol? nab.ax\n",
            "https://au.finance.yahoo.com/quote/nab.ax/profile?p=nab.ax\n"
          ]
        }
      ]
    },
    {
      "cell_type": "code",
      "metadata": {
        "id": "IrR_IM6c3oP9"
      },
      "source": [
        "#def get_ticker():\n",
        "#  company_ticker = input(\"What is your Company's Stock Market Ticker Symbol? \")\n",
        "#  url = \"https://au.finance.yahoo.com/quote/{}/profile?p={}\".format(company_ticker,company_ticker)\n",
        "#  print(url)\n",
        "\n",
        "  # Having trouble defining a function that uses this code to prompt the user for the ticker "
      ],
      "execution_count": null,
      "outputs": []
    },
    {
      "cell_type": "code",
      "metadata": {
        "id": "SEyxtAk6GkKE"
      },
      "source": [
        "def get_ticker():\n",
        "  company_ticker = input(\"What is your Company's Stock Market Ticker Symbol? \")\n",
        "  url = \"https://au.finance.yahoo.com/quote/{}/profile?p={}\".format(company_ticker,company_ticker)\n",
        "  return url"
      ],
      "execution_count": 6,
      "outputs": []
    },
    {
      "cell_type": "code",
      "metadata": {
        "colab": {
          "base_uri": "https://localhost:8080/",
          "height": 52
        },
        "id": "zyKX926tS8fT",
        "outputId": "944a46ca-cd59-40c4-b734-5a6f472c0f93"
      },
      "source": [
        "get_ticker()"
      ],
      "execution_count": 8,
      "outputs": [
        {
          "name": "stdout",
          "output_type": "stream",
          "text": [
            "What is your Company's Stock Market Ticker Symbol? nab\n"
          ]
        },
        {
          "output_type": "execute_result",
          "data": {
            "application/vnd.google.colaboratory.intrinsic+json": {
              "type": "string"
            },
            "text/plain": [
              "'https://au.finance.yahoo.com/quote/nab/profile?p=nab'"
            ]
          },
          "metadata": {},
          "execution_count": 8
        }
      ]
    },
    {
      "cell_type": "markdown",
      "metadata": {
        "id": "UZH2aGVZWle2"
      },
      "source": [
        "## INPUT VALIDATION"
      ]
    },
    {
      "cell_type": "code",
      "metadata": {
        "id": "I4NV3cWxC7Kn"
      },
      "source": [
        "# I need to find a method that will validate the input such that, only australian company stock market ticker symbols are accepted.\n",
        "# Australian tickers always end in .AX\n",
        "# Therefore, I want the input to have a \".AX\" extension\n",
        "# If the input has this extension I want to accept the ticker and continue to run the program\n",
        "# If the ticker does not have this extension, I want to display a message to the user saying \"Please make sure the ticker is an Aussie company ending in '.AX' \"\n",
        "# If the user enters the correct ticker format I also want to display a message saying \"Thank you for entering the Aussie ticker symbol \""
      ],
      "execution_count": null,
      "outputs": []
    },
    {
      "cell_type": "code",
      "metadata": {
        "id": "NiNHNAtyWuRH"
      },
      "source": [
        "ext_want = '.AX'\n",
        "get_last_3_chars = company_ticker[-3:]"
      ],
      "execution_count": 10,
      "outputs": []
    },
    {
      "cell_type": "code",
      "metadata": {
        "id": "fHFkJU0jPqNr"
      },
      "source": [
        "def get_ticker():\n",
        "  while True: \n",
        "    company_ticker = input(\"What is your Company's Stock Market Ticker Symbol? \")\n",
        "    last_3_chars = company_ticker[-3:]\n",
        "    if last_3_chars == '.AX':\n",
        "      break\n",
        "    else:\n",
        "      print(\"Please make sure the ticker is an Aussie company ending in '.AX' \")\n",
        "  return company_ticker"
      ],
      "execution_count": 11,
      "outputs": []
    },
    {
      "cell_type": "code",
      "metadata": {
        "id": "MHASsrPJP1fI",
        "colab": {
          "base_uri": "https://localhost:8080/"
        },
        "outputId": "fba70ccc-35e5-4aef-9b4e-269e9d799587"
      },
      "source": [
        "ticker_input = get_ticker()\n",
        "print(\"Thank you for entering the Aussie ticker symbol \" + ticker_input)"
      ],
      "execution_count": 16,
      "outputs": [
        {
          "output_type": "stream",
          "name": "stdout",
          "text": [
            "What is your Company's Stock Market Ticker Symbol? NAB.LL\n",
            "Please make sure the ticker is an Aussie company ending in '.AX' \n",
            "What is your Company's Stock Market Ticker Symbol? CAV.OP\n",
            "Please make sure the ticker is an Aussie company ending in '.AX' \n",
            "What is your Company's Stock Market Ticker Symbol? NAB.AX\n",
            "Thank you for entering the Aussie ticker symbol NAB.AX\n"
          ]
        }
      ]
    },
    {
      "cell_type": "markdown",
      "metadata": {
        "id": "PwfamC263HJr"
      },
      "source": [
        "## GO TO URL\n",
        "* The next step was to automatically go to the url provided by the input code and once there, \n",
        "* scrape the web page for the key executive's salary data"
      ]
    },
    {
      "cell_type": "code",
      "metadata": {
        "id": "ICv6CjB3AHTX",
        "colab": {
          "base_uri": "https://localhost:8080/"
        },
        "outputId": "43fa1f6e-4a76-4ef5-fbad-cae61c3f2adc"
      },
      "source": [
        "!pip install kora -q\n",
        "\n",
        "'''load packages'''\n",
        "from bs4 import BeautifulSoup\n",
        "from kora.selenium import wd\n"
      ],
      "execution_count": 13,
      "outputs": [
        {
          "output_type": "stream",
          "name": "stdout",
          "text": [
            "\u001b[?25l\r\u001b[K     |█████▊                          | 10 kB 21.6 MB/s eta 0:00:01\r\u001b[K     |███████████▍                    | 20 kB 26.9 MB/s eta 0:00:01\r\u001b[K     |█████████████████               | 30 kB 21.1 MB/s eta 0:00:01\r\u001b[K     |██████████████████████▊         | 40 kB 17.4 MB/s eta 0:00:01\r\u001b[K     |████████████████████████████▍   | 51 kB 8.1 MB/s eta 0:00:01\r\u001b[K     |████████████████████████████████| 57 kB 3.4 MB/s \n",
            "\u001b[?25h\u001b[?25l\r\u001b[K     |█████▉                          | 10 kB 34.2 MB/s eta 0:00:01\r\u001b[K     |███████████▊                    | 20 kB 36.7 MB/s eta 0:00:01\r\u001b[K     |█████████████████▌              | 30 kB 45.2 MB/s eta 0:00:01\r\u001b[K     |███████████████████████▍        | 40 kB 51.9 MB/s eta 0:00:01\r\u001b[K     |█████████████████████████████▎  | 51 kB 58.3 MB/s eta 0:00:01\r\u001b[K     |████████████████████████████████| 56 kB 4.7 MB/s \n",
            "\u001b[?25h"
          ]
        }
      ]
    },
    {
      "cell_type": "code",
      "metadata": {
        "id": "wbHQ65-8jC0s"
      },
      "source": [
        "# This is my original input function which I subsequently replaced with a new function incorporating input validation\n",
        "\n",
        "# def get_ticker():\n",
        " # company_ticker = input(\"What is your Company's Stock Market Ticker Symbol? \")\n",
        "  # url = \"https://au.finance.yahoo.com/quote/{}/profile?p={}\".format(company_ticker,company_ticker)\n",
        "  # return url"
      ],
      "execution_count": null,
      "outputs": []
    },
    {
      "cell_type": "code",
      "metadata": {
        "id": "VQKElGmkDmnV"
      },
      "source": [
        "# This is my original function to take the company ticker entered and build the url and get the web page\n",
        "# company_ticker = input(\"What is your Company's Stock Market Ticker Symbol? \")\n",
        "# url = \"https://au.finance.yahoo.com/quote/{}/profile?p={}\".format(company_ticker,company_ticker)\n",
        "#wd.get(url)\n",
        "# wd"
      ],
      "execution_count": null,
      "outputs": []
    },
    {
      "cell_type": "code",
      "metadata": {
        "id": "UVhxvM2vcJCA"
      },
      "source": [
        "# This is my updated function to build the URL from the modified input function that now includes validation"
      ],
      "execution_count": 14,
      "outputs": []
    },
    {
      "cell_type": "code",
      "metadata": {
        "id": "OnrIhb3PRsdO",
        "colab": {
          "base_uri": "https://localhost:8080/"
        },
        "outputId": "16bf54d0-1f0a-4717-e718-d1ca56c44de3"
      },
      "source": [
        "url = \"https://au.finance.yahoo.com/quote/{}/profile?p={}\".format(ticker_input,ticker_input)\n",
        "print(url)"
      ],
      "execution_count": 20,
      "outputs": [
        {
          "output_type": "stream",
          "name": "stdout",
          "text": [
            "https://au.finance.yahoo.com/quote/NAB.AX/profile?p=NAB.AX\n"
          ]
        }
      ]
    },
    {
      "cell_type": "code",
      "metadata": {
        "colab": {
          "base_uri": "https://localhost:8080/",
          "height": 617
        },
        "id": "-tKeDANBgEaV",
        "outputId": "c8d3537f-85b2-4a35-e845-3b00e18b6270"
      },
      "source": [
        "# This is the function used to get the webpage defined by the url built from the above function (and \"wd\" will display a screen shot of it)\n",
        "wd.get(url)\n",
        "wd"
      ],
      "execution_count": 22,
      "outputs": [
        {
          "output_type": "execute_result",
          "data": {
            "image/png": "[encoded data removed]",
            "text/plain": [
              "<selenium.webdriver.chrome.webdriver.WebDriver (session=\"f1193e6c6decca802e774c08210a413c\")>"
            ]
          },
          "metadata": {},
          "execution_count": 22
        }
      ]
    },
    {
      "cell_type": "markdown",
      "metadata": {
        "id": "bxxcNnctvApv"
      },
      "source": [
        "I ran a check to make sure I was going to the correct web page by taking a snap shot using the \"wd\" function from the kora library as demonstrated above\n",
        "\n",
        "\n",
        "\n",
        "\n",
        "##PROCESSING#\n",
        "\n",
        "1. Use salary data to compute the tax payable for each executive\n",
        "2. Use tax tables and functions created in previous notebook to calculate tax payable"
      ]
    },
    {
      "cell_type": "markdown",
      "metadata": {
        "id": "gILIn9zwubR0"
      },
      "source": [
        "## Page Scraping\n",
        "Now that I had a reliable and viable URL to work with, I explored the use of functions that would go to the page and scrape it for the correct table needed to extract the Executive's names, title and pay\n"
      ]
    },
    {
      "cell_type": "code",
      "metadata": {
        "id": "f_8AjmOF0Ej3"
      },
      "source": [
        "# The following code will get the page for me using the url supplied by the input function above\n",
        "wd.get(url)\n",
        "soup = BeautifulSoup(wd.page_source, \"html.parser\")"
      ],
      "execution_count": 23,
      "outputs": []
    },
    {
      "cell_type": "code",
      "metadata": {
        "id": "7Ihm4iTF3w5k"
      },
      "source": [
        "# I can view and check the soup if I want to..\n",
        "soup"
      ],
      "execution_count": null,
      "outputs": []
    },
    {
      "cell_type": "code",
      "metadata": {
        "id": "YWLKh89_2B15"
      },
      "source": [
        "# I can also check I have the correct web page using \"wd\" to take a screen shot...\n",
        "wd"
      ],
      "execution_count": null,
      "outputs": []
    },
    {
      "cell_type": "code",
      "metadata": {
        "id": "JHoG6t6P2Cj9"
      },
      "source": [
        "# I've looked at the page source and inspected the above table in it, and now want to see how many tables there are in total on the page...\n",
        "table = soup.find_all('table')\n",
        "len(table)"
      ],
      "execution_count": null,
      "outputs": []
    },
    {
      "cell_type": "code",
      "metadata": {
        "id": "B9mQU33e76b5"
      },
      "source": [
        "# As I can see now that there is only one table I can use the find command...\n",
        "table = soup.find('table')\n",
        "len(table)"
      ],
      "execution_count": null,
      "outputs": []
    },
    {
      "cell_type": "code",
      "metadata": {
        "id": "HX1s9UQHADJI"
      },
      "source": [
        "# And now I just want to look at the table itself...\n",
        "table = soup.find('table')\n",
        "table"
      ],
      "execution_count": null,
      "outputs": []
    },
    {
      "cell_type": "code",
      "metadata": {
        "id": "IHUvPAGJByes"
      },
      "source": [
        "# now I would like to check the body in the table, which from what I have seen when inspecting the page, contains the Executives' names, titles and pays which I need for processing the tax payable by each\n",
        "table = soup.find('table')\n",
        "body = table.find_all('tbody')\n",
        "body"
      ],
      "execution_count": null,
      "outputs": []
    },
    {
      "cell_type": "code",
      "metadata": {
        "id": "HJeaKrv8CnWR",
        "outputId": "0914b2bd-e1af-470b-d393-6b783a4d7dce",
        "colab": {
          "base_uri": "https://localhost:8080/"
        }
      },
      "source": [
        "# now I want to find the number of individual rows within the table to check that I have captured them all in the table I'm after........\n",
        "table = soup.find('table')\n",
        "body = table.find('tbody')\n",
        "rows = body.find_all('tr')\n",
        "len(rows)\n",
        "# ten is correct"
      ],
      "execution_count": 30,
      "outputs": [
        {
          "output_type": "execute_result",
          "data": {
            "text/plain": [
              "10"
            ]
          },
          "metadata": {},
          "execution_count": 30
        }
      ]
    },
    {
      "cell_type": "code",
      "metadata": {
        "colab": {
          "base_uri": "https://localhost:8080/",
          "height": 35
        },
        "id": "KdFpxo70DubP",
        "outputId": "24593b09-102d-4975-c8ca-a00da33ce9fb"
      },
      "source": [
        "# Exploring the rows ........\n",
        "table = soup.find('table')\n",
        "body = table.find('tbody')\n",
        "rows = body.find_all('tr')\n",
        "rows[0].text"
      ],
      "execution_count": 31,
      "outputs": [
        {
          "output_type": "execute_result",
          "data": {
            "application/vnd.google.colaboratory.intrinsic+json": {
              "type": "string"
            },
            "text/plain": [
              "'Mr. Ross Maxwell McEwan CBE, B.B.S.Group CEO, MD & Director2.54MN/A1957'"
            ]
          },
          "metadata": {},
          "execution_count": 31
        }
      ]
    },
    {
      "cell_type": "code",
      "metadata": {
        "id": "uVRK7XX7EqdL"
      },
      "source": [
        "# To begin with I will just process one row to gain an understanding and process all rows later ...\n",
        "row = rows[0]"
      ],
      "execution_count": 32,
      "outputs": []
    },
    {
      "cell_type": "code",
      "metadata": {
        "colab": {
          "base_uri": "https://localhost:8080/"
        },
        "id": "rKuHQ_5P0Mfv",
        "outputId": "c8fb131c-bf0c-4634-d914-9d164394ca52"
      },
      "source": [
        "# Checking the number of columns.....\n",
        "cells = row.find_all('td')\n",
        "len(cells)\n",
        "\n",
        "# 5 collumns is correct...Name, Title, Pay,Exercised, Year born"
      ],
      "execution_count": 33,
      "outputs": [
        {
          "output_type": "execute_result",
          "data": {
            "text/plain": [
              "5"
            ]
          },
          "metadata": {},
          "execution_count": 33
        }
      ]
    },
    {
      "cell_type": "code",
      "metadata": {
        "colab": {
          "base_uri": "https://localhost:8080/"
        },
        "id": "IKuS-ztf1jpj",
        "outputId": "bbc3d5b1-42a2-4ef0-9cf8-6c39c91f3cfd"
      },
      "source": [
        "# Exporing individual cells......\n",
        "cells = row.find_all('td')\n",
        "cells[0]"
      ],
      "execution_count": 34,
      "outputs": [
        {
          "output_type": "execute_result",
          "data": {
            "text/plain": [
              "<td class=\"Ta(start)\" data-reactid=\"51\"><span class=\"\" data-reactid=\"52\"><!-- react-text: 53 -->Mr. Ross Maxwell McEwan CBE, B.B.S.<!-- /react-text --></span></td>"
            ]
          },
          "metadata": {},
          "execution_count": 34
        }
      ]
    },
    {
      "cell_type": "code",
      "metadata": {
        "colab": {
          "base_uri": "https://localhost:8080/"
        },
        "id": "hha8WPZs2lfZ",
        "outputId": "d0d7b7ce-edec-4c7d-d5e3-79ac307b22b9"
      },
      "source": [
        "cells = row.find_all('td')\n",
        "name = cells[0].text\n",
        "title = cells[1].text\n",
        "pay = cells[2].text\n",
        "print(name)\n",
        "print(title)\n",
        "print(pay)"
      ],
      "execution_count": 35,
      "outputs": [
        {
          "output_type": "stream",
          "name": "stdout",
          "text": [
            "Mr. Ross Maxwell McEwan CBE, B.B.S.\n",
            "Group CEO, MD & Director\n",
            "2.54M\n"
          ]
        }
      ]
    },
    {
      "cell_type": "code",
      "metadata": {
        "id": "1Ak-KS8e3JWv"
      },
      "source": [
        "# Now I can create a function to extract these first three cells....\n",
        "def get_name_title_pay(row):\n",
        "  cells = row.find_all('td')\n",
        "  name = cells[0].text\n",
        "  title = cells[1].text\n",
        "  pay = cells[2].text\n",
        "  return {'name': name, 'title':title, 'pay': pay}\n",
        "  # this is returning a dictionary - 'name' is a key for example\n"
      ],
      "execution_count": 36,
      "outputs": []
    },
    {
      "cell_type": "code",
      "metadata": {
        "id": "pceyqBsH5Ign"
      },
      "source": [
        "# get_name_title_pay(rows[3])"
      ],
      "execution_count": 37,
      "outputs": []
    },
    {
      "cell_type": "code",
      "metadata": {
        "colab": {
          "base_uri": "https://localhost:8080/"
        },
        "id": "P27t0H8_5QSj",
        "outputId": "c8f9ba14-0735-4f3f-8795-962f3d41317d"
      },
      "source": [
        "# now I need to capture all the rows...\n",
        "exec_details = []\n",
        "for row in rows:\n",
        "  result = get_name_title_pay(row)\n",
        "  exec_details.append(result)\n",
        "\n",
        "print(exec_details)"
      ],
      "execution_count": 38,
      "outputs": [
        {
          "output_type": "stream",
          "name": "stdout",
          "text": [
            "[{'name': 'Mr. Ross Maxwell McEwan CBE, B.B.S.', 'title': 'Group CEO, MD & Director', 'pay': '2.54M'}, {'name': 'Mr. Gary Andrew Lennon BEC, F.C.A., BEc (Hons), FCA', 'title': 'Group Chief Financial Officer', 'pay': '1.13M'}, {'name': 'Mr. Patrick F. Wright', 'title': 'Group Exec. of Technology & Enterprise Operations', 'pay': '1.72M'}, {'name': 'Ms. Sharon J. Cook', 'title': 'Group Exec. of Legal & Commercial Services', 'pay': '912.98k'}, {'name': 'Ms. Susan  Ferrier', 'title': 'Group Exec. of People & Culture', 'pay': '929.27k'}, {'name': 'Ms. Angela  Mentis B.Bus', 'title': 'Group Chief Digital, Data & Analytics Officer', 'pay': '1.62M'}, {'name': 'Mr. Shaun  Dooley', 'title': 'Chief Risk Officer', 'pay': '1.05M'}, {'name': 'Mr. Andrew  Irvine', 'title': 'Chief Exec. of Bus. Private Banking Division', 'pay': '333.27k'}, {'name': 'Mr. Lesile D. Matheson', 'title': 'Group Chief Operating Officer', 'pay': 'N/A'}, {'name': 'Ms. Sally  Mihell', 'title': 'Head of Investor Relations', 'pay': 'N/A'}]\n"
          ]
        }
      ]
    },
    {
      "cell_type": "code",
      "metadata": {
        "id": "GixiYrrpDoSy",
        "colab": {
          "base_uri": "https://localhost:8080/"
        },
        "outputId": "f3bd998b-160f-4da4-ac76-406568fe1f4d"
      },
      "source": [
        "# I then turned the above lines of code into the one function\n",
        "def get_exec_details(soup):\n",
        "  table = soup.find('table')\n",
        "  body = table.find('tbody')\n",
        "  rows = body.find_all('tr')\n",
        "  exec_details = []\n",
        "  for row in rows:\n",
        "    result = get_name_title_pay(row)\n",
        "    exec_details.append(result)\n",
        "print(exec_details)"
      ],
      "execution_count": 39,
      "outputs": [
        {
          "output_type": "stream",
          "name": "stdout",
          "text": [
            "[{'name': 'Mr. Ross Maxwell McEwan CBE, B.B.S.', 'title': 'Group CEO, MD & Director', 'pay': '2.54M'}, {'name': 'Mr. Gary Andrew Lennon BEC, F.C.A., BEc (Hons), FCA', 'title': 'Group Chief Financial Officer', 'pay': '1.13M'}, {'name': 'Mr. Patrick F. Wright', 'title': 'Group Exec. of Technology & Enterprise Operations', 'pay': '1.72M'}, {'name': 'Ms. Sharon J. Cook', 'title': 'Group Exec. of Legal & Commercial Services', 'pay': '912.98k'}, {'name': 'Ms. Susan  Ferrier', 'title': 'Group Exec. of People & Culture', 'pay': '929.27k'}, {'name': 'Ms. Angela  Mentis B.Bus', 'title': 'Group Chief Digital, Data & Analytics Officer', 'pay': '1.62M'}, {'name': 'Mr. Shaun  Dooley', 'title': 'Chief Risk Officer', 'pay': '1.05M'}, {'name': 'Mr. Andrew  Irvine', 'title': 'Chief Exec. of Bus. Private Banking Division', 'pay': '333.27k'}, {'name': 'Mr. Lesile D. Matheson', 'title': 'Group Chief Operating Officer', 'pay': 'N/A'}, {'name': 'Ms. Sally  Mihell', 'title': 'Head of Investor Relations', 'pay': 'N/A'}]\n"
          ]
        }
      ]
    },
    {
      "cell_type": "code",
      "metadata": {
        "id": "5rspK0gB2qIM",
        "colab": {
          "base_uri": "https://localhost:8080/"
        },
        "outputId": "f4598f1d-e243-4a0b-cc3f-5e61cd61a484"
      },
      "source": [
        "exec_details = []\n",
        "for row in rows:\n",
        "  result = get_name_title_pay(row)\n",
        "  print(result)"
      ],
      "execution_count": 40,
      "outputs": [
        {
          "output_type": "stream",
          "name": "stdout",
          "text": [
            "{'name': 'Mr. Ross Maxwell McEwan CBE, B.B.S.', 'title': 'Group CEO, MD & Director', 'pay': '2.54M'}\n",
            "{'name': 'Mr. Gary Andrew Lennon BEC, F.C.A., BEc (Hons), FCA', 'title': 'Group Chief Financial Officer', 'pay': '1.13M'}\n",
            "{'name': 'Mr. Patrick F. Wright', 'title': 'Group Exec. of Technology & Enterprise Operations', 'pay': '1.72M'}\n",
            "{'name': 'Ms. Sharon J. Cook', 'title': 'Group Exec. of Legal & Commercial Services', 'pay': '912.98k'}\n",
            "{'name': 'Ms. Susan  Ferrier', 'title': 'Group Exec. of People & Culture', 'pay': '929.27k'}\n",
            "{'name': 'Ms. Angela  Mentis B.Bus', 'title': 'Group Chief Digital, Data & Analytics Officer', 'pay': '1.62M'}\n",
            "{'name': 'Mr. Shaun  Dooley', 'title': 'Chief Risk Officer', 'pay': '1.05M'}\n",
            "{'name': 'Mr. Andrew  Irvine', 'title': 'Chief Exec. of Bus. Private Banking Division', 'pay': '333.27k'}\n",
            "{'name': 'Mr. Lesile D. Matheson', 'title': 'Group Chief Operating Officer', 'pay': 'N/A'}\n",
            "{'name': 'Ms. Sally  Mihell', 'title': 'Head of Investor Relations', 'pay': 'N/A'}\n"
          ]
        }
      ]
    },
    {
      "cell_type": "code",
      "metadata": {
        "id": "3S42mgOOb0xe"
      },
      "source": [
        ""
      ],
      "execution_count": null,
      "outputs": []
    },
    {
      "cell_type": "code",
      "metadata": {
        "id": "eLe7GQA3m8DZ"
      },
      "source": [
        "## Steps\n",
        "#1. Get the income\n",
        "#2. Calculate the tax payable\n",
        "\n",
        "# Step 1 - Get the income amount\n",
        "income = int(input(\"What is your income for the year? \"))\n",
        "print(\"Your income is \" , income)\n",
        "\n",
        "# Step 2 - Calculate the tax payable\n",
        "# if you earn $18,200, then pay no tax\n",
        "# else if you earn between $18,201 – $45,000, \n",
        "#    then pay 0.19 cents for every dollar over 18,200\n",
        "\n",
        "if income <= 18200:\n",
        "  tax_payable = 0\n",
        "elif 18200 < income <= 45000: \n",
        "  tax_payable = 0.19 * (income - 18200)\n",
        "elif 45000 < income <= 120000:\n",
        "  tax_payable = 5092 + 0.32 * (income - 45000)\n",
        "elif 120000 < income <= 180000:\n",
        "  tax_payable = 29467 + 0.37 * (income - 120000)\n",
        "elif income > 180000:     \n",
        "  tax_payable = 51667 + 0.45 * (income - 180000)        \n",
        "print(\"Your tax payable is \", tax_payable)"
      ],
      "execution_count": null,
      "outputs": []
    },
    {
      "cell_type": "code",
      "metadata": {
        "id": "ezuDcmKZ1Bh_"
      },
      "source": [
        "def get_income():\n",
        "  '''\n",
        "  This function will prompt the user for the income and return the value\n",
        "  '''\n",
        "  income = int(input(\"What is your income for the year? \"))\n",
        "  print(\"Your income is \" , income)\n",
        "  return income"
      ],
      "execution_count": null,
      "outputs": []
    },
    {
      "cell_type": "code",
      "metadata": {
        "id": "2Uh5ZuLW1McW"
      },
      "source": [
        "def calculate_tax (income):\n",
        "  if income <= 18200:\n",
        "    tax_payable = 0\n",
        "  elif 18200 < income <= 45000: \n",
        "    tax_payable = 0.19 * (income - 18200)\n",
        "  elif 45000 < income <= 120000:\n",
        "    tax_payable = 5092 + 0.32 * (income - 45000)\n",
        "  elif 120000 < income <= 180000:\n",
        "    tax_payable = 29467 + 0.37 * (income - 120000)\n",
        "  elif income > 180000:     \n",
        "    tax_payable = 51667 + 0.45 * (income - 180000)        \n",
        "  \n",
        "  return tax_payable"
      ],
      "execution_count": null,
      "outputs": []
    },
    {
      "cell_type": "code",
      "metadata": {
        "id": "zidxhc7D1TGe"
      },
      "source": [
        "# 'Main line'\n",
        "\n",
        "# Step 1\n",
        "income = get_income ()\n",
        "# Step 2\n",
        "tax = calculate_tax(income)\n",
        "\n",
        "print(\"Your tax payable is \", tax)"
      ],
      "execution_count": null,
      "outputs": []
    },
    {
      "cell_type": "markdown",
      "metadata": {
        "id": "E4JTZ6eVJ_zX"
      },
      "source": [
        "# Lets manually calculate the income tax\n",
        "```\n",
        "Mr. Ross Maxwell McEwan CBE, B.B.S.\tGroup CEO, MD & Director\t2.54M\tN/A\t1957\n",
        "Mr. Gary Andrew Lennon BEC, F.C.A., BEc (Hons), FCA\tGroup Chief Financial Officer\t1.13M\tN/A\tN/A\n",
        "Mr. Patrick F. Wright\tGroup Exec. of Technology & Enterprise Operations\t1.72M\tN/A\t1967\n",
        "Ms. Sharon J. Cook\tGroup Exec. of Legal & Commercial Services\t912.98k\tN/A\tN/A\n",
        "Ms. Susan Ferrier\tGroup Exec. of People & Culture\t929.27k\tN/A\tN/A\n",
        "Ms. Angela Mentis B.Bus\tGroup Chief Digital, Data & Analytics Officer\t1.62M\tN/A\tN/A\n",
        "Mr. Shaun Dooley\tChief Risk Officer\t1.05M\tN/A\tN/A\n",
        "Mr. Andrew Irvine\tChief Exec. of Bus. Private Banking Division\t333.27k\tN/A\tN/A\n",
        "Mr. Lesile D. Matheson\tGroup Chief Operating Officer\tN/A\tN/A\t1960\n",
        "Ms. Sally Mihell\tHead of Investor Relations\tN/A\tN/A\tN/A\n",
        "```"
      ]
    },
    {
      "cell_type": "markdown",
      "metadata": {
        "id": "KiqY-lcwvHZD"
      },
      "source": [
        "##OUTPUTS#\n",
        "* Create a Panda data frame\n",
        "* Save data in CSV and/or\n",
        "* Store in an SQLite database\n",
        "\n",
        "* Allow user to choose how data is saved \n",
        "* Use widgets to provide GUI interface to allow user to choose "
      ]
    },
    {
      "cell_type": "code",
      "metadata": {
        "id": "N4LxNT7YvI8Z"
      },
      "source": [
        ""
      ],
      "execution_count": null,
      "outputs": []
    }
  ]
}