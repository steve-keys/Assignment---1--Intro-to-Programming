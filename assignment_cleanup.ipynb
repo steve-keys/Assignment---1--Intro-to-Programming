{
  "nbformat": 4,
  "nbformat_minor": 0,
  "metadata": {
    "colab": {
      "name": "assignment_cleanup.ipynb",
      "provenance": [],
      "authorship_tag": "ABX9TyPPjQm6ov1jEI3OT/iIlXPJ",
      "include_colab_link": true
    },
    "kernelspec": {
      "name": "python3",
      "display_name": "Python 3"
    },
    "language_info": {
      "name": "python"
    }
  },
  "cells": [
    {
      "cell_type": "markdown",
      "metadata": {
        "id": "view-in-github",
        "colab_type": "text"
      },
      "source": [
        "<a href=\"https://colab.research.google.com/github/steve-keys/Assignment---1--Intro-to-Programming/blob/main/assignment_cleanup.ipynb\" target=\"_parent\"><img src=\"https://colab.research.google.com/assets/colab-badge.svg\" alt=\"Open In Colab\"/></a>"
      ]
    },
    {
      "cell_type": "code",
      "metadata": {
        "id": "ICv6CjB3AHTX",
        "outputId": "a7e61b80-4cff-41b4-c5a3-b20c38ffe9db",
        "colab": {
          "base_uri": "https://localhost:8080/"
        }
      },
      "source": [
        "# Begin by loading the packages and importing the functions required for the subsequent work flow and algorithims\n",
        "!pip install kora -q\n",
        "\n",
        "'''load packages and import modules'''\n",
        "\n",
        "from bs4 import BeautifulSoup\n",
        "from kora.selenium import wd\n",
        "import pandas as pd"
      ],
      "execution_count": 2,
      "outputs": [
        {
          "output_type": "stream",
          "name": "stdout",
          "text": [
            "\u001b[?25l\r\u001b[K     |█████▊                          | 10 kB 23.1 MB/s eta 0:00:01\r\u001b[K     |███████████▍                    | 20 kB 28.9 MB/s eta 0:00:01\r\u001b[K     |█████████████████               | 30 kB 13.9 MB/s eta 0:00:01\r\u001b[K     |██████████████████████▊         | 40 kB 10.3 MB/s eta 0:00:01\r\u001b[K     |████████████████████████████▍   | 51 kB 4.5 MB/s eta 0:00:01\r\u001b[K     |████████████████████████████████| 57 kB 2.5 MB/s \n",
            "\u001b[?25h\u001b[?25l\r\u001b[K     |█████▉                          | 10 kB 25.7 MB/s eta 0:00:01\r\u001b[K     |███████████▊                    | 20 kB 34.5 MB/s eta 0:00:01\r\u001b[K     |█████████████████▌              | 30 kB 34.4 MB/s eta 0:00:01\r\u001b[K     |███████████████████████▍        | 40 kB 21.2 MB/s eta 0:00:01\r\u001b[K     |█████████████████████████████▎  | 51 kB 24.1 MB/s eta 0:00:01\r\u001b[K     |████████████████████████████████| 56 kB 3.3 MB/s \n",
            "\u001b[?25h"
          ]
        }
      ]
    },
    {
      "cell_type": "code",
      "metadata": {
        "id": "SEyxtAk6GkKE"
      },
      "source": [
        "def get_ticker():\n",
        "  '''\n",
        "  This function will prompt the user for their company's stock market ticker symbol and build the url for the relevant web page\n",
        "  '''\n",
        "  company_ticker = input(\"What is your Company's Stock Market Ticker Symbol? \")\n",
        "  url = \"https://au.finance.yahoo.com/quote/{}/profile?p={}\".format(company_ticker,company_ticker)\n",
        "  return url"
      ],
      "execution_count": 3,
      "outputs": []
    },
    {
      "cell_type": "markdown",
      "metadata": {
        "id": "qFnCIxW7F23r"
      },
      "source": [
        "* Need to research how to validate input as 3 letters followed by a dot AX - i.e. ABC.AX \n",
        "* Not case sensitive"
      ]
    },
    {
      "cell_type": "code",
      "metadata": {
        "id": "1Ak-KS8e3JWv"
      },
      "source": [
        "def get_name_title_pay(row):\n",
        "  '''\n",
        "  This function will obtain the name, title and pay (first 3 cells) for each Executive listed in the profile section of the web page\n",
        "  '''\n",
        "  cells = row.find_all('td')\n",
        "  name = cells[0].text\n",
        "  title = cells[1].text\n",
        "  pay = cells[2].text\n",
        "  return {'name': name, 'title':title, 'pay': pay}"
      ],
      "execution_count": 4,
      "outputs": []
    },
    {
      "cell_type": "code",
      "metadata": {
        "id": "GixiYrrpDoSy"
      },
      "source": [
        "def get_exec_details(soup):\n",
        "  '''\n",
        "  This function will scour the web page soup for the table, body and rows, and then return the name, title and pay for each Executive in each of the rows (10 rows in total)\n",
        "  '''\n",
        "  table = soup.find('table')\n",
        "  body = table.find('tbody')\n",
        "  rows = body.find_all('tr')\n",
        "  \n",
        "  exec_details = []\n",
        "  for row in rows:\n",
        "    result = get_name_title_pay(row)\n",
        "    exec_details.append(result)\n",
        "  return exec_details"
      ],
      "execution_count": 5,
      "outputs": []
    },
    {
      "cell_type": "code",
      "metadata": {
        "id": "ZloViF_4ZliP"
      },
      "source": [
        "def get_salary(rec):\n",
        "  '''\n",
        "  This function will convert the Executives salaries into a full number (float format)\n",
        "  '''\n",
        "  pay = rec['pay']\n",
        "  last_char = pay[-1]\n",
        "  num_part = pay[0:-1]\n",
        "\n",
        "  if last_char == 'M':\n",
        "    salary = float(num_part) * 1000000\n",
        "  elif last_char == 'k':\n",
        "    salary = float(num_part) * 1000\n",
        "  else:\n",
        "    salary = 0\n",
        "\n",
        "  return salary"
      ],
      "execution_count": 6,
      "outputs": []
    },
    {
      "cell_type": "code",
      "metadata": {
        "id": "2Uh5ZuLW1McW"
      },
      "source": [
        "def calculate_tax (income):\n",
        "  '''\n",
        "  This function will calculate the income tax payable on each persons salary\n",
        "  '''\n",
        "  if income <= 18200:\n",
        "    tax_payable = 0\n",
        "  elif 18200 < income <= 45000: \n",
        "    tax_payable = 0.19 * (income - 18200)\n",
        "  elif 45000 < income <= 120000:\n",
        "    tax_payable = 5092 + 0.32 * (income - 45000)\n",
        "  elif 120000 < income <= 180000:\n",
        "    tax_payable = 29467 + 0.37 * (income - 120000)\n",
        "  elif income > 180000:     \n",
        "    tax_payable = 51667 + 0.45 * (income - 180000)        \n",
        "  \n",
        "  return tax_payable"
      ],
      "execution_count": 7,
      "outputs": []
    },
    {
      "cell_type": "code",
      "metadata": {
        "id": "f_8AjmOF0Ej3",
        "colab": {
          "base_uri": "https://localhost:8080/",
          "height": 376
        },
        "outputId": "52c8b84c-76e7-4119-b94f-de292f529178"
      },
      "source": [
        "''' \n",
        "This set of functions will fetch the web page, parse the soup from that page, retrieve the data needed to calculate the income tax payable and finally for each Executive, save their name, title, pay and tax liability (adding a column for this tax), all into a CSV file that presents as a table\n",
        "'''\n",
        " \n",
        "url = get_ticker()\n",
        "wd.get(url)\n",
        "soup = BeautifulSoup(wd.page_source, \"html.parser\")\n",
        "records = get_exec_details(soup)\n",
        "\n",
        "for record in records:\n",
        "  result = get_salary(record)\n",
        "  income_tax = calculate_tax(result)\n",
        "  record['tax'] = income_tax\n",
        "\n",
        "#create a pandas dataframe - as shown in an earlier notebook a df is easily saved as a CSV file\n",
        "\n",
        "execs_df = pd.DataFrame.from_records(records)\n",
        "execs_df"
      ],
      "execution_count": 8,
      "outputs": [
        {
          "name": "stdout",
          "output_type": "stream",
          "text": [
            "What is your Company's Stock Market Ticker Symbol? nab.ax\n"
          ]
        },
        {
          "output_type": "execute_result",
          "data": {
            "text/html": [
              "<div>\n",
              "<style scoped>\n",
              "    .dataframe tbody tr th:only-of-type {\n",
              "        vertical-align: middle;\n",
              "    }\n",
              "\n",
              "    .dataframe tbody tr th {\n",
              "        vertical-align: top;\n",
              "    }\n",
              "\n",
              "    .dataframe thead th {\n",
              "        text-align: right;\n",
              "    }\n",
              "</style>\n",
              "<table border=\"1\" class=\"dataframe\">\n",
              "  <thead>\n",
              "    <tr style=\"text-align: right;\">\n",
              "      <th></th>\n",
              "      <th>name</th>\n",
              "      <th>title</th>\n",
              "      <th>pay</th>\n",
              "      <th>tax</th>\n",
              "    </tr>\n",
              "  </thead>\n",
              "  <tbody>\n",
              "    <tr>\n",
              "      <th>0</th>\n",
              "      <td>Mr. Ross Maxwell McEwan CBE, B.B.S.</td>\n",
              "      <td>Group CEO, MD &amp; Director</td>\n",
              "      <td>2.54M</td>\n",
              "      <td>1113667.0</td>\n",
              "    </tr>\n",
              "    <tr>\n",
              "      <th>1</th>\n",
              "      <td>Mr. Gary Andrew Lennon BEC, F.C.A., BEc (Hons)...</td>\n",
              "      <td>Group Chief Financial Officer</td>\n",
              "      <td>1.13M</td>\n",
              "      <td>479167.0</td>\n",
              "    </tr>\n",
              "    <tr>\n",
              "      <th>2</th>\n",
              "      <td>Mr. Patrick F. Wright</td>\n",
              "      <td>Group Exec. of Technology &amp; Enterprise Operations</td>\n",
              "      <td>1.72M</td>\n",
              "      <td>744667.0</td>\n",
              "    </tr>\n",
              "    <tr>\n",
              "      <th>3</th>\n",
              "      <td>Ms. Sharon J. Cook</td>\n",
              "      <td>Group Exec. of Legal &amp; Commercial Services</td>\n",
              "      <td>912.98k</td>\n",
              "      <td>381508.0</td>\n",
              "    </tr>\n",
              "    <tr>\n",
              "      <th>4</th>\n",
              "      <td>Ms. Susan  Ferrier</td>\n",
              "      <td>Group Exec. of People &amp; Culture</td>\n",
              "      <td>929.27k</td>\n",
              "      <td>388838.5</td>\n",
              "    </tr>\n",
              "    <tr>\n",
              "      <th>5</th>\n",
              "      <td>Ms. Angela  Mentis B.Bus</td>\n",
              "      <td>Group Chief Digital, Data &amp; Analytics Officer</td>\n",
              "      <td>1.62M</td>\n",
              "      <td>699667.0</td>\n",
              "    </tr>\n",
              "    <tr>\n",
              "      <th>6</th>\n",
              "      <td>Mr. Shaun  Dooley</td>\n",
              "      <td>Chief Risk Officer</td>\n",
              "      <td>1.05M</td>\n",
              "      <td>443167.0</td>\n",
              "    </tr>\n",
              "    <tr>\n",
              "      <th>7</th>\n",
              "      <td>Mr. Andrew  Irvine</td>\n",
              "      <td>Chief Exec. of Bus. Private Banking Division</td>\n",
              "      <td>333.27k</td>\n",
              "      <td>120638.5</td>\n",
              "    </tr>\n",
              "    <tr>\n",
              "      <th>8</th>\n",
              "      <td>Mr. Lesile D. Matheson</td>\n",
              "      <td>Group Chief Operating Officer</td>\n",
              "      <td>N/A</td>\n",
              "      <td>0.0</td>\n",
              "    </tr>\n",
              "    <tr>\n",
              "      <th>9</th>\n",
              "      <td>Ms. Sally  Mihell</td>\n",
              "      <td>Head of Investor Relations</td>\n",
              "      <td>N/A</td>\n",
              "      <td>0.0</td>\n",
              "    </tr>\n",
              "  </tbody>\n",
              "</table>\n",
              "</div>"
            ],
            "text/plain": [
              "                                                name  ...        tax\n",
              "0                Mr. Ross Maxwell McEwan CBE, B.B.S.  ...  1113667.0\n",
              "1  Mr. Gary Andrew Lennon BEC, F.C.A., BEc (Hons)...  ...   479167.0\n",
              "2                              Mr. Patrick F. Wright  ...   744667.0\n",
              "3                                 Ms. Sharon J. Cook  ...   381508.0\n",
              "4                                 Ms. Susan  Ferrier  ...   388838.5\n",
              "5                           Ms. Angela  Mentis B.Bus  ...   699667.0\n",
              "6                                  Mr. Shaun  Dooley  ...   443167.0\n",
              "7                                 Mr. Andrew  Irvine  ...   120638.5\n",
              "8                             Mr. Lesile D. Matheson  ...        0.0\n",
              "9                                  Ms. Sally  Mihell  ...        0.0\n",
              "\n",
              "[10 rows x 4 columns]"
            ]
          },
          "metadata": {},
          "execution_count": 8
        }
      ]
    },
    {
      "cell_type": "code",
      "metadata": {
        "id": "pJO47nWH11ZF"
      },
      "source": [
        "## Need to also save data to a SQL Data Base\n",
        "## Need to add GUI buttons to provide user with a choice to save to CSV or SQL"
      ],
      "execution_count": null,
      "outputs": []
    },
    {
      "cell_type": "markdown",
      "metadata": {
        "id": "YWMgOPnS9uBz"
      },
      "source": [
        "## THINGS LEFT TO DO\n",
        "1. Need to save data to a SQL Data Base\n",
        "2. Need to add GUI buttons to provide user with a choice to save to CSV or SQL\n",
        "3. Need to validate company stock ticker input "
      ]
    },
    {
      "cell_type": "code",
      "metadata": {
        "id": "NkDvg7fN9oiN",
        "outputId": "21791fdb-db97-4528-d4cb-b43ddc13c124",
        "colab": {
          "base_uri": "https://localhost:8080/",
          "height": 197
        }
      },
      "source": [
        "df = execs_df\n",
        "\n",
        "df.to_sql(name='execs_df', con=conn)\n",
        "conn.close()"
      ],
      "execution_count": 11,
      "outputs": [
        {
          "output_type": "error",
          "ename": "NameError",
          "evalue": "ignored",
          "traceback": [
            "\u001b[0;31m---------------------------------------------------------------------------\u001b[0m",
            "\u001b[0;31mNameError\u001b[0m                                 Traceback (most recent call last)",
            "\u001b[0;32m<ipython-input-11-2a5011893d92>\u001b[0m in \u001b[0;36m<module>\u001b[0;34m()\u001b[0m\n\u001b[1;32m      1\u001b[0m \u001b[0mdf\u001b[0m \u001b[0;34m=\u001b[0m \u001b[0mexecs_df\u001b[0m\u001b[0;34m\u001b[0m\u001b[0;34m\u001b[0m\u001b[0m\n\u001b[0;32m----> 2\u001b[0;31m \u001b[0mdf\u001b[0m\u001b[0;34m.\u001b[0m\u001b[0mto_sql\u001b[0m\u001b[0;34m(\u001b[0m\u001b[0mname\u001b[0m\u001b[0;34m=\u001b[0m\u001b[0;34m'execs_df'\u001b[0m\u001b[0;34m,\u001b[0m \u001b[0mcon\u001b[0m\u001b[0;34m=\u001b[0m\u001b[0mconn\u001b[0m\u001b[0;34m)\u001b[0m\u001b[0;34m\u001b[0m\u001b[0;34m\u001b[0m\u001b[0m\n\u001b[0m\u001b[1;32m      3\u001b[0m \u001b[0mconn\u001b[0m\u001b[0;34m.\u001b[0m\u001b[0mclose\u001b[0m\u001b[0;34m(\u001b[0m\u001b[0;34m)\u001b[0m\u001b[0;34m\u001b[0m\u001b[0;34m\u001b[0m\u001b[0m\n",
            "\u001b[0;31mNameError\u001b[0m: name 'conn' is not defined"
          ]
        }
      ]
    },
    {
      "cell_type": "code",
      "metadata": {
        "id": "JcyhEJ-69uPd"
      },
      "source": [
        ""
      ],
      "execution_count": null,
      "outputs": []
    }
  ]
}