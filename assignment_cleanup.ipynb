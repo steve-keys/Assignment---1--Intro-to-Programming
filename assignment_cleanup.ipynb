{
  "nbformat": 4,
  "nbformat_minor": 0,
  "metadata": {
    "colab": {
      "name": "assignment_cleanup.ipynb",
      "provenance": [],
      "authorship_tag": "ABX9TyOH5ya5fY9LOTyA4zSpnC4E",
      "include_colab_link": true
    },
    "kernelspec": {
      "name": "python3",
      "display_name": "Python 3"
    },
    "language_info": {
      "name": "python"
    }
  },
  "cells": [
    {
      "cell_type": "markdown",
      "metadata": {
        "id": "view-in-github",
        "colab_type": "text"
      },
      "source": [
        "<a href=\"https://colab.research.google.com/github/steve-keys/Assignment---1--Intro-to-Programming/blob/main/assignment_cleanup.ipynb\" target=\"_parent\"><img src=\"https://colab.research.google.com/assets/colab-badge.svg\" alt=\"Open In Colab\"/></a>"
      ]
    },
    {
      "cell_type": "code",
      "metadata": {
        "id": "I9ovNbg5PhTZ"
      },
      "source": [
        ""
      ],
      "execution_count": null,
      "outputs": []
    },
    {
      "cell_type": "code",
      "metadata": {
        "id": "ICv6CjB3AHTX",
        "colab": {
          "base_uri": "https://localhost:8080/"
        },
        "outputId": "565e24b8-6f3b-41aa-f443-a3aa8925562d"
      },
      "source": [
        "!pip install kora -q\n",
        "\n",
        "'''load packages'''\n",
        "from bs4 import BeautifulSoup\n",
        "from kora.selenium import wd"
      ],
      "execution_count": 1,
      "outputs": [
        {
          "output_type": "stream",
          "name": "stdout",
          "text": [
            "\u001b[K     |████████████████████████████████| 57 kB 2.7 MB/s \n",
            "\u001b[K     |████████████████████████████████| 56 kB 3.9 MB/s \n",
            "\u001b[?25h"
          ]
        }
      ]
    },
    {
      "cell_type": "code",
      "metadata": {
        "id": "SEyxtAk6GkKE"
      },
      "source": [
        "def get_ticker():\n",
        "  company_ticker = input(\"What is your Company's Stock Market Ticker Symbol? \")\n",
        "  url = \"https://au.finance.yahoo.com/quote/{}/profile?p={}\".format(company_ticker,company_ticker)\n",
        "  return url"
      ],
      "execution_count": 10,
      "outputs": []
    },
    {
      "cell_type": "code",
      "metadata": {
        "id": "1Ak-KS8e3JWv"
      },
      "source": [
        "# Now I can create a function to extract these first three cells....\n",
        "def get_name_title_pay(row):\n",
        "  cells = row.find_all('td')\n",
        "  name = cells[0].text\n",
        "  title = cells[1].text\n",
        "  pay = cells[2].text\n",
        "  return {'name': name, 'title':title, 'pay': pay}\n",
        "  # this is returning a dictionary - 'name' is a key for example"
      ],
      "execution_count": 11,
      "outputs": []
    },
    {
      "cell_type": "code",
      "metadata": {
        "id": "GixiYrrpDoSy"
      },
      "source": [
        "def get_exec_details(soup):\n",
        "  table = soup.find('table')\n",
        "  body = table.find('tbody')\n",
        "  rows = body.find_all('tr')\n",
        "  \n",
        "  exec_details = []\n",
        "  for row in rows:\n",
        "    result = get_name_title_pay(row)\n",
        "    exec_details.append(result)\n",
        "  return exec_details"
      ],
      "execution_count": 12,
      "outputs": []
    },
    {
      "cell_type": "code",
      "metadata": {
        "id": "ZloViF_4ZliP"
      },
      "source": [
        "def get_salary(rec):\n",
        "  pay = rec['pay']\n",
        "  last_char = pay[-1]\n",
        "  num_part = pay[0:-1]\n",
        "\n",
        "  if last_char == 'M':\n",
        "    salary = float(num_part) * 1000000\n",
        "  elif last_char == 'k':\n",
        "    salary = float(num_part) * 1000\n",
        "  else:\n",
        "    salary = 0\n",
        "\n",
        "  return salary"
      ],
      "execution_count": 14,
      "outputs": []
    },
    {
      "cell_type": "code",
      "metadata": {
        "id": "2Uh5ZuLW1McW"
      },
      "source": [
        "def calculate_tax (income):\n",
        "  if income <= 18200:\n",
        "    tax_payable = 0\n",
        "  elif 18200 < income <= 45000: \n",
        "    tax_payable = 0.19 * (income - 18200)\n",
        "  elif 45000 < income <= 120000:\n",
        "    tax_payable = 5092 + 0.32 * (income - 45000)\n",
        "  elif 120000 < income <= 180000:\n",
        "    tax_payable = 29467 + 0.37 * (income - 120000)\n",
        "  elif income > 180000:     \n",
        "    tax_payable = 51667 + 0.45 * (income - 180000)        \n",
        "  \n",
        "  return tax_payable"
      ],
      "execution_count": 16,
      "outputs": []
    },
    {
      "cell_type": "code",
      "metadata": {
        "id": "f_8AjmOF0Ej3",
        "colab": {
          "base_uri": "https://localhost:8080/"
        },
        "outputId": "5a55d0df-8949-4910-b95b-2d1a76e742f6"
      },
      "source": [
        "# The following code will now go to the page using the url supplied in the \"get_ticker\" function above, and extract the data needed for processing the tax\n",
        "url = get_ticker()\n",
        "wd.get(url)\n",
        "soup = BeautifulSoup(wd.page_source, \"html.parser\")\n",
        "records = get_exec_details(soup)\n",
        "\n",
        "for record in records:\n",
        "  result = get_salary(record)\n",
        "  income_tax = calculate_tax(result)\n",
        "  record['tax'] = income_tax\n",
        "\n",
        "records\n"
      ],
      "execution_count": 19,
      "outputs": [
        {
          "name": "stdout",
          "output_type": "stream",
          "text": [
            "What is your Company's Stock Market Ticker Symbol? nab.ax\n"
          ]
        },
        {
          "output_type": "execute_result",
          "data": {
            "text/plain": [
              "[{'name': 'Mr. Ross Maxwell McEwan CBE, B.B.S.',\n",
              "  'pay': '2.54M',\n",
              "  'tax': 1113667.0,\n",
              "  'title': 'Group CEO, MD & Director'},\n",
              " {'name': 'Mr. Gary Andrew Lennon BEC, F.C.A., BEc (Hons), FCA',\n",
              "  'pay': '1.13M',\n",
              "  'tax': 479167.0,\n",
              "  'title': 'Group Chief Financial Officer'},\n",
              " {'name': 'Mr. Patrick F. Wright',\n",
              "  'pay': '1.72M',\n",
              "  'tax': 744667.0,\n",
              "  'title': 'Group Exec. of Technology & Enterprise Operations'},\n",
              " {'name': 'Ms. Sharon J. Cook',\n",
              "  'pay': '912.98k',\n",
              "  'tax': 381508.0,\n",
              "  'title': 'Group Exec. of Legal & Commercial Services'},\n",
              " {'name': 'Ms. Susan  Ferrier',\n",
              "  'pay': '929.27k',\n",
              "  'tax': 388838.5,\n",
              "  'title': 'Group Exec. of People & Culture'},\n",
              " {'name': 'Ms. Angela  Mentis B.Bus',\n",
              "  'pay': '1.62M',\n",
              "  'tax': 699667.0,\n",
              "  'title': 'Group Chief Digital, Data & Analytics Officer'},\n",
              " {'name': 'Mr. Shaun  Dooley',\n",
              "  'pay': '1.05M',\n",
              "  'tax': 443167.0,\n",
              "  'title': 'Chief Risk Officer'},\n",
              " {'name': 'Mr. Andrew  Irvine',\n",
              "  'pay': '333.27k',\n",
              "  'tax': 120638.5,\n",
              "  'title': 'Chief Exec. of Bus. Private Banking Division'},\n",
              " {'name': 'Mr. Lesile D. Matheson',\n",
              "  'pay': 'N/A',\n",
              "  'tax': 0,\n",
              "  'title': 'Group Chief Operating Officer'},\n",
              " {'name': 'Ms. Sally  Mihell',\n",
              "  'pay': 'N/A',\n",
              "  'tax': 0,\n",
              "  'title': 'Head of Investor Relations'}]"
            ]
          },
          "metadata": {},
          "execution_count": 19
        }
      ]
    },
    {
      "cell_type": "code",
      "metadata": {
        "colab": {
          "base_uri": "https://localhost:8080/"
        },
        "id": "UUTLR609ZoAk",
        "outputId": "595f9d0e-b5e8-4f14-cc7e-ab1ed78f47dc"
      },
      "source": [
        "for r in records:\n",
        "  result = get_salary(r)\n",
        "  print(result)"
      ],
      "execution_count": 15,
      "outputs": [
        {
          "output_type": "stream",
          "name": "stdout",
          "text": [
            "3550000.0\n",
            "1540000.0\n",
            "2860000.0\n",
            "1290000.0\n",
            "1850000.0\n",
            "2040000.0\n",
            "1480000.0\n",
            "1690000.0\n",
            "0\n",
            "0\n"
          ]
        }
      ]
    },
    {
      "cell_type": "code",
      "metadata": {
        "colab": {
          "base_uri": "https://localhost:8080/"
        },
        "id": "hxANTrPepcmR",
        "outputId": "e7dfec78-160e-4ebe-ca5a-bb0221f71469"
      },
      "source": [
        "for r in records:\n",
        "  result = get_salary(r)\n",
        "  income_tax = calculate_tax(result)\n",
        "  \n",
        "  print(income_tax)\n",
        "  r['tax'] = income_tax\n",
        "  print(r)"
      ],
      "execution_count": 17,
      "outputs": [
        {
          "output_type": "stream",
          "name": "stdout",
          "text": [
            "1568167.0\n",
            "{'name': 'Mr. Matthew  Comyn', 'title': 'CEO, MD & Exec. Director', 'pay': '3.55M', 'tax': 1568167.0}\n",
            "663667.0\n",
            "{'name': 'Mr. Alan  Docherty', 'title': 'Group Exec. of Financial Services & CFO', 'pay': '1.54M', 'tax': 663667.0}\n",
            "1257667.0\n",
            "{'name': 'Mr. Pascall  Boillat', 'title': 'Chief Information Officer & Group Exec. of Enterprise Services', 'pay': '2.86M', 'tax': 1257667.0}\n",
            "551167.0\n",
            "{'name': 'Ms. Sian  Lewis', 'title': 'Group Exec. of HR', 'pay': '1.29M', 'tax': 551167.0}\n",
            "803167.0\n",
            "{'name': 'Mr. David Antony Keith Cohen B.A., L.L.B.', 'title': 'Deputy Chief Exec. Officer', 'pay': '1.85M', 'tax': 803167.0}\n",
            "888667.0\n",
            "{'name': 'Mr. Nigel  Williams', 'title': 'Group Chief Risk Officer', 'pay': '2.04M', 'tax': 888667.0}\n",
            "636667.0\n",
            "{'name': 'Ms. Vittoria Annabel June Shortt BMS, CA', 'title': 'Chief Exec. & MD of ASB Bank Ltd.', 'pay': '1.48M', 'tax': 636667.0}\n",
            "731167.0\n",
            "{'name': 'Mr. Mike  Vacy-Lyle', 'title': 'Group Exec. of Bus. & Private Banking', 'pay': '1.69M', 'tax': 731167.0}\n",
            "0\n",
            "{'name': 'Hanh  Nguyen', 'title': 'Chief Representative and Director of Investment & Banking', 'pay': 'N/A', 'tax': 0}\n",
            "0\n",
            "{'name': 'Melanie  Kirk', 'title': 'Head of Investor Relations', 'pay': 'N/A', 'tax': 0}\n"
          ]
        }
      ]
    },
    {
      "cell_type": "code",
      "metadata": {
        "id": "cXgutTAip5GY",
        "colab": {
          "base_uri": "https://localhost:8080/"
        },
        "outputId": "26ede935-a850-40a8-a2f2-8d3d95800f45"
      },
      "source": [
        "print(records)"
      ],
      "execution_count": 18,
      "outputs": [
        {
          "output_type": "stream",
          "name": "stdout",
          "text": [
            "[{'name': 'Mr. Matthew  Comyn', 'title': 'CEO, MD & Exec. Director', 'pay': '3.55M', 'tax': 1568167.0}, {'name': 'Mr. Alan  Docherty', 'title': 'Group Exec. of Financial Services & CFO', 'pay': '1.54M', 'tax': 663667.0}, {'name': 'Mr. Pascall  Boillat', 'title': 'Chief Information Officer & Group Exec. of Enterprise Services', 'pay': '2.86M', 'tax': 1257667.0}, {'name': 'Ms. Sian  Lewis', 'title': 'Group Exec. of HR', 'pay': '1.29M', 'tax': 551167.0}, {'name': 'Mr. David Antony Keith Cohen B.A., L.L.B.', 'title': 'Deputy Chief Exec. Officer', 'pay': '1.85M', 'tax': 803167.0}, {'name': 'Mr. Nigel  Williams', 'title': 'Group Chief Risk Officer', 'pay': '2.04M', 'tax': 888667.0}, {'name': 'Ms. Vittoria Annabel June Shortt BMS, CA', 'title': 'Chief Exec. & MD of ASB Bank Ltd.', 'pay': '1.48M', 'tax': 636667.0}, {'name': 'Mr. Mike  Vacy-Lyle', 'title': 'Group Exec. of Bus. & Private Banking', 'pay': '1.69M', 'tax': 731167.0}, {'name': 'Hanh  Nguyen', 'title': 'Chief Representative and Director of Investment & Banking', 'pay': 'N/A', 'tax': 0}, {'name': 'Melanie  Kirk', 'title': 'Head of Investor Relations', 'pay': 'N/A', 'tax': 0}]\n"
          ]
        }
      ]
    },
    {
      "cell_type": "code",
      "metadata": {
        "id": "pJO47nWH11ZF"
      },
      "source": [
        ""
      ],
      "execution_count": null,
      "outputs": []
    }
  ]
}