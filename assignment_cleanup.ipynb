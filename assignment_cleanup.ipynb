{
  "nbformat": 4,
  "nbformat_minor": 0,
  "metadata": {
    "colab": {
      "name": "assignment_cleanup.ipynb",
      "provenance": [],
      "authorship_tag": "ABX9TyPYRBsJPwXU5BFfRG6S6LvD",
      "include_colab_link": true
    },
    "kernelspec": {
      "name": "python3",
      "display_name": "Python 3"
    },
    "language_info": {
      "name": "python"
    }
  },
  "cells": [
    {
      "cell_type": "markdown",
      "metadata": {
        "id": "view-in-github",
        "colab_type": "text"
      },
      "source": [
        "<a href=\"https://colab.research.google.com/github/steve-keys/Assignment---1--Intro-to-Programming/blob/main/assignment_cleanup.ipynb\" target=\"_parent\"><img src=\"https://colab.research.google.com/assets/colab-badge.svg\" alt=\"Open In Colab\"/></a>"
      ]
    },
    {
      "cell_type": "code",
      "metadata": {
        "id": "I9ovNbg5PhTZ"
      },
      "source": [
        ""
      ],
      "execution_count": null,
      "outputs": []
    },
    {
      "cell_type": "code",
      "metadata": {
        "id": "ICv6CjB3AHTX",
        "colab": {
          "base_uri": "https://localhost:8080/"
        },
        "outputId": "2d5319b4-753e-4a7b-981a-b631d50ccec6"
      },
      "source": [
        "!pip install kora -q\n",
        "\n",
        "'''load packages'''\n",
        "from bs4 import BeautifulSoup\n",
        "from kora.selenium import wd"
      ],
      "execution_count": 1,
      "outputs": [
        {
          "output_type": "stream",
          "name": "stdout",
          "text": [
            "\u001b[?25l\r\u001b[K     |█████▊                          | 10 kB 20.9 MB/s eta 0:00:01\r\u001b[K     |███████████▍                    | 20 kB 27.1 MB/s eta 0:00:01\r\u001b[K     |█████████████████               | 30 kB 26.6 MB/s eta 0:00:01\r\u001b[K     |██████████████████████▊         | 40 kB 19.4 MB/s eta 0:00:01\r\u001b[K     |████████████████████████████▍   | 51 kB 11.4 MB/s eta 0:00:01\r\u001b[K     |████████████████████████████████| 57 kB 3.0 MB/s \n",
            "\u001b[?25h\u001b[?25l\r\u001b[K     |█████▉                          | 10 kB 24.0 MB/s eta 0:00:01\r\u001b[K     |███████████▊                    | 20 kB 32.4 MB/s eta 0:00:01\r\u001b[K     |█████████████████▌              | 30 kB 38.7 MB/s eta 0:00:01\r\u001b[K     |███████████████████████▍        | 40 kB 42.7 MB/s eta 0:00:01\r\u001b[K     |█████████████████████████████▎  | 51 kB 46.9 MB/s eta 0:00:01\r\u001b[K     |████████████████████████████████| 56 kB 4.0 MB/s \n",
            "\u001b[?25h"
          ]
        }
      ]
    },
    {
      "cell_type": "code",
      "metadata": {
        "id": "SEyxtAk6GkKE"
      },
      "source": [
        "def get_ticker():\n",
        "  company_ticker = input(\"What is your Company's Stock Market Ticker Symbol? \")\n",
        "  url = \"https://au.finance.yahoo.com/quote/{}/profile?p={}\".format(company_ticker,company_ticker)\n",
        "  return url"
      ],
      "execution_count": 2,
      "outputs": []
    },
    {
      "cell_type": "code",
      "metadata": {
        "id": "1Ak-KS8e3JWv"
      },
      "source": [
        "# Now I can create a function to extract these first three cells....\n",
        "def get_name_title_pay(row):\n",
        "  cells = row.find_all('td')\n",
        "  name = cells[0].text\n",
        "  title = cells[1].text\n",
        "  pay = cells[2].text\n",
        "  return {'name': name, 'title':title, 'pay': pay}\n",
        "  # this is returning a dictionary - 'name' is a key for example"
      ],
      "execution_count": 3,
      "outputs": []
    },
    {
      "cell_type": "code",
      "metadata": {
        "id": "GixiYrrpDoSy"
      },
      "source": [
        "def get_exec_details(soup):\n",
        "  table = soup.find('table')\n",
        "  body = table.find('tbody')\n",
        "  rows = body.find_all('tr')\n",
        "  \n",
        "  exec_details = []\n",
        "  for row in rows:\n",
        "    result = get_name_title_pay(row)\n",
        "    exec_details.append(result)\n",
        "  return exec_details"
      ],
      "execution_count": 4,
      "outputs": []
    },
    {
      "cell_type": "code",
      "metadata": {
        "id": "f_8AjmOF0Ej3",
        "colab": {
          "base_uri": "https://localhost:8080/"
        },
        "outputId": "de8e21e2-9362-4419-df95-9cf5fb208bda"
      },
      "source": [
        "# The following code will now go to the page using the url supplied in the \"get_ticker\" function above, and extract the data needed for processing the tax\n",
        "url = get_ticker()\n",
        "wd.get(url)\n",
        "soup = BeautifulSoup(wd.page_source, \"html.parser\")\n",
        "records = get_exec_details(soup)"
      ],
      "execution_count": 7,
      "outputs": [
        {
          "name": "stdout",
          "output_type": "stream",
          "text": [
            "What is your Company's Stock Market Ticker Symbol? nab.ax\n"
          ]
        }
      ]
    },
    {
      "cell_type": "code",
      "metadata": {
        "id": "ZloViF_4ZliP"
      },
      "source": [
        "def get_salary(rec):\n",
        "  pay = rec['pay']\n",
        "  last_char = pay[-1]\n",
        "  num_part = pay[0:-1]\n",
        "\n",
        "  if last_char == 'M':\n",
        "    salary = float(num_part) * 1000000\n",
        "  elif last_char == 'k':\n",
        "    salary = float(num_part) * 1000\n",
        "  else:\n",
        "    salary = 0\n",
        "\n",
        "  return salary"
      ],
      "execution_count": 28,
      "outputs": []
    },
    {
      "cell_type": "code",
      "metadata": {
        "colab": {
          "base_uri": "https://localhost:8080/"
        },
        "id": "UUTLR609ZoAk",
        "outputId": "cbf39b3c-bb16-42e3-f14c-ba1639e187ea"
      },
      "source": [
        "for r in records:\n",
        "  result = get_salary(r)\n",
        "  print(result)"
      ],
      "execution_count": 31,
      "outputs": [
        {
          "output_type": "stream",
          "name": "stdout",
          "text": [
            "2540000.0\n",
            "1130000.0\n",
            "1720000.0\n",
            "912980.0\n",
            "929270.0\n",
            "1620000.0\n",
            "1050000.0\n",
            "333270.0\n",
            "0\n",
            "0\n"
          ]
        }
      ]
    },
    {
      "cell_type": "code",
      "metadata": {
        "id": "6Kv-51sNnfNW"
      },
      "source": [
        ""
      ],
      "execution_count": null,
      "outputs": []
    }
  ]
}